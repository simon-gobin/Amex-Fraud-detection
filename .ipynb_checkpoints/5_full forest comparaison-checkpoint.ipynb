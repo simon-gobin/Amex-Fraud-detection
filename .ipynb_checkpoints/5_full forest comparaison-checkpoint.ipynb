{
 "cells": [
  {
   "cell_type": "markdown",
   "source": [
    "Compare my build model to pre-build XGBooster random forest for compare the accuracy. I got similar accuracy (0.84 vs 0.85) and the build model show a recall score (0.90 vs 0.75) and F1 score (0.74 vs 0.71)"
   ],
   "metadata": {
    "collapsed": false
   },
   "id": "31ae8d8078bd8b24"
  },
  {
   "cell_type": "code",
   "outputs": [],
   "source": [
    "import cudf\n",
    "import cuml\n",
    "from sklearn.model_selection import KFold\n",
    "from sklearn.metrics import accuracy_score, precision_score, recall_score, f1_score, confusion_matrix, classification_report\n",
    "import xgboost as xgb\n",
    "import cupy as cp\n",
    "import numpy as np\n",
    "import matplotlib.pyplot as plt\n",
    "import time"
   ],
   "metadata": {
    "collapsed": true,
    "ExecuteTime": {
     "end_time": "2024-09-06T19:19:46.913925Z",
     "start_time": "2024-09-06T19:19:46.902661Z"
    }
   },
   "id": "initial_id",
   "execution_count": 12
  },
  {
   "cell_type": "code",
   "outputs": [],
   "source": [
    "df = cudf.read_parquet('df.parquet')"
   ],
   "metadata": {
    "collapsed": false,
    "ExecuteTime": {
     "end_time": "2024-09-06T14:20:35.997125Z",
     "start_time": "2024-09-06T14:19:57.837471Z"
    }
   },
   "id": "3ef8dcf00f8c191c",
   "execution_count": 5
  },
  {
   "cell_type": "code",
   "outputs": [],
   "source": [
    "# Select target and features\n",
    "y = df['target']\n",
    "X = df.drop('target', axis=1)"
   ],
   "metadata": {
    "collapsed": false,
    "ExecuteTime": {
     "end_time": "2024-09-06T14:20:36.425021Z",
     "start_time": "2024-09-06T14:20:35.998656Z"
    }
   },
   "id": "2b4cc04a327e85f3",
   "execution_count": 6
  },
  {
   "cell_type": "code",
   "outputs": [],
   "source": [
    "accuracies = []\n",
    "precisions = []\n",
    "recalls = []\n",
    "f1_scores = []"
   ],
   "metadata": {
    "collapsed": false,
    "ExecuteTime": {
     "end_time": "2024-09-06T14:20:36.429198Z",
     "start_time": "2024-09-06T14:20:36.426479Z"
    }
   },
   "id": "8303d367ffecfbf8",
   "execution_count": 7
  },
  {
   "cell_type": "code",
   "outputs": [],
   "source": [
    "X_train_np = X.to_pandas().values\n",
    "y_train_np = y.to_pandas().values"
   ],
   "metadata": {
    "collapsed": false,
    "ExecuteTime": {
     "end_time": "2024-09-06T14:22:03.260424Z",
     "start_time": "2024-09-06T14:20:36.430100Z"
    }
   },
   "id": "d0262b83e3c1c81d",
   "execution_count": 8
  },
  {
   "cell_type": "code",
   "outputs": [],
   "source": [
    "# Define the KFold cross-validation\n",
    "kf = KFold(n_splits=5, shuffle=True)"
   ],
   "metadata": {
    "collapsed": false,
    "ExecuteTime": {
     "end_time": "2024-09-06T14:22:03.278166Z",
     "start_time": "2024-09-06T14:22:03.266185Z"
    }
   },
   "id": "9078ce8fdaf42ffb",
   "execution_count": 9
  },
  {
   "cell_type": "code",
   "outputs": [],
   "source": [],
   "metadata": {
    "collapsed": false
   },
   "id": "22e808663f3509d9"
  },
  {
   "cell_type": "code",
   "outputs": [
    {
     "name": "stderr",
     "output_type": "stream",
     "text": [
      "/home/simon/miniconda3/envs/rapids-24.08/lib/python3.11/site-packages/xgboost/core.py:158: UserWarning: [15:27:10] WARNING: /home/conda/feedstock_root/build_artifacts/xgboost-split_1722516643542/work/src/common/error_msg.cc:58: Falling back to prediction using DMatrix due to mismatched devices. This might lead to higher memory usage and slower performance. XGBoost is running on: cuda:0, while the input data is on: cpu.\n",
      "Potential solutions:\n",
      "- Use a data structure that matches the device ordinal in the booster.\n",
      "- Set the device for booster before call to inplace_predict.\n",
      "\n",
      "This warning will only be shown once.\n",
      "\n",
      "  warnings.warn(smsg, UserWarning)\n"
     ]
    },
    {
     "name": "stdout",
     "output_type": "stream",
     "text": [
      "Fold Accuracy: 0.8540\n",
      "Fold Precision: 0.6885\n",
      "Fold Recall: 0.7536\n",
      "Fold F1 Score: 0.7196\n",
      "[[737511  93762]\n",
      " [ 67753 207265]]\n",
      "              precision    recall  f1-score   support\n",
      "\n",
      "   Non-Fraud       0.92      0.89      0.90    831273\n",
      "       Fraud       0.69      0.75      0.72    275018\n",
      "\n",
      "    accuracy                           0.85   1106291\n",
      "   macro avg       0.80      0.82      0.81   1106291\n",
      "weighted avg       0.86      0.85      0.86   1106291\n",
      "Fold Accuracy: 0.8545\n",
      "Fold Precision: 0.6928\n",
      "Fold Recall: 0.7483\n",
      "Fold F1 Score: 0.7195\n",
      "[[738952  91524]\n",
      " [ 69414 206400]]\n",
      "              precision    recall  f1-score   support\n",
      "\n",
      "   Non-Fraud       0.91      0.89      0.90    830476\n",
      "       Fraud       0.69      0.75      0.72    275814\n",
      "\n",
      "    accuracy                           0.85   1106290\n",
      "   macro avg       0.80      0.82      0.81   1106290\n",
      "weighted avg       0.86      0.85      0.86   1106290\n",
      "Fold Accuracy: 0.8542\n",
      "Fold Precision: 0.6914\n",
      "Fold Recall: 0.7490\n",
      "Fold F1 Score: 0.7191\n",
      "[[738514  92144]\n",
      " [ 69170 206462]]\n",
      "              precision    recall  f1-score   support\n",
      "\n",
      "   Non-Fraud       0.91      0.89      0.90    830658\n",
      "       Fraud       0.69      0.75      0.72    275632\n",
      "\n",
      "    accuracy                           0.85   1106290\n",
      "   macro avg       0.80      0.82      0.81   1106290\n",
      "weighted avg       0.86      0.85      0.86   1106290\n",
      "Fold Accuracy: 0.8549\n",
      "Fold Precision: 0.6923\n",
      "Fold Recall: 0.7529\n",
      "Fold F1 Score: 0.7213\n",
      "[[738065  92333]\n",
      " [ 68166 207726]]\n",
      "              precision    recall  f1-score   support\n",
      "\n",
      "   Non-Fraud       0.92      0.89      0.90    830398\n",
      "       Fraud       0.69      0.75      0.72    275892\n",
      "\n",
      "    accuracy                           0.85   1106290\n",
      "   macro avg       0.80      0.82      0.81   1106290\n",
      "weighted avg       0.86      0.85      0.86   1106290\n",
      "Fold Accuracy: 0.8541\n",
      "Fold Precision: 0.6905\n",
      "Fold Recall: 0.7508\n",
      "Fold F1 Score: 0.7194\n",
      "[[738056  92721]\n",
      " [ 68647 206866]]\n",
      "              precision    recall  f1-score   support\n",
      "\n",
      "   Non-Fraud       0.91      0.89      0.90    830777\n",
      "       Fraud       0.69      0.75      0.72    275513\n",
      "\n",
      "    accuracy                           0.85   1106290\n",
      "   macro avg       0.80      0.82      0.81   1106290\n",
      "weighted avg       0.86      0.85      0.86   1106290\n",
      "\n",
      "Average Accuracy: 0.8544\n",
      "Average Precision: 0.6911\n",
      "Average Recall: 0.7510\n",
      "Average F1 Score: 0.7198\n"
     ]
    }
   ],
   "source": [
    "\n",
    "# Loop over KFold splits for importance feature\n",
    "for train_index, test_index in kf.split(X_train_np, y_train_np):\n",
    "    # Indexing using numpy arrays or pandas DataFrames\n",
    "    X_train_fold, X_test_fold = X_train_np[train_index], X_train_np[test_index]\n",
    "    y_train_fold, y_test_fold = y_train_np[train_index], y_train_np[test_index]\n",
    "\n",
    "    # Train the XGBoost model\n",
    "    xgb_model = xgb.XGBRFRegressor(\n",
    "        colsample_bynode=0.8,\n",
    "        learning_rate=1,\n",
    "        max_depth=5,\n",
    "        num_parallel_tree=100,\n",
    "        objective=\"binary:logistic\",\n",
    "        subsample=0.8,\n",
    "        tree_method=\"hist\",\n",
    "        device=\"cuda\",\n",
    "        random_state=42\n",
    "    )\n",
    "    xgb_model.fit(X_train_fold, y_train_fold)\n",
    "\n",
    "    # Predict on the test fold\n",
    "    y_pred_fold_prob = xgb_model.predict(X_test_fold)\n",
    "\n",
    "    # Convert probabilities to binary predictions (using 0.5 as the threshold)\n",
    "    y_pred_fold = (y_pred_fold_prob > 0.5).astype(int)\n",
    "\n",
    "    # Calculate metrics for this fold\n",
    "    accuracy = accuracy_score(y_test_fold, y_pred_fold)\n",
    "    precision = precision_score(y_test_fold, y_pred_fold)\n",
    "    recall = recall_score(y_test_fold, y_pred_fold)\n",
    "    f1 = f1_score(y_test_fold, y_pred_fold)\n",
    "\n",
    "    # Append metrics to the lists\n",
    "    accuracies.append(accuracy)\n",
    "    precisions.append(precision)\n",
    "    recalls.append(recall)\n",
    "    f1_scores.append(f1)\n",
    "\n",
    "    # Print metrics for the current fold\n",
    "    print(f'Fold Accuracy: {accuracy:.4f}')\n",
    "    print(f'Fold Precision: {precision:.4f}')\n",
    "    print(f'Fold Recall: {recall:.4f}')\n",
    "    print(f'Fold F1 Score: {f1:.4f}')\n",
    "    print(confusion_matrix(y_test_fold, y_pred_fold))\n",
    "    print(classification_report(y_test_fold, y_pred_fold, target_names=['Non-Fraud', 'Fraud']))\n",
    "\n",
    "# Calculate and print average metrics\n",
    "print(f'Average Accuracy: {np.mean(accuracies):.4f}')\n",
    "print(f'Average Precision: {np.mean(precisions):.4f}')\n",
    "print(f'Average Recall: {np.mean(recalls):.4f}')\n",
    "print(f'Average F1 Score: {np.mean(f1_scores):.4f}')\n",
    "\n",
    "Time = time.process_time()\n",
    "print(f'Time')"
   ],
   "metadata": {
    "collapsed": false,
    "ExecuteTime": {
     "end_time": "2024-09-06T14:30:53.990603Z",
     "start_time": "2024-09-06T14:22:03.279953Z"
    }
   },
   "id": "5096089259259704",
   "execution_count": 10
  },
  {
   "cell_type": "code",
   "outputs": [
    {
     "data": {
      "text/plain": "<Figure size 1000x600 with 1 Axes>",
      "image/png": "[encoded data removed]"
     },
     "metadata": {},
     "output_type": "display_data"
    }
   ],
   "source": [
    "# Plot the accuracy evolution by fold\n",
    "plt.figure(figsize=(10, 6))\n",
    "plt.plot(range(1, len(accuracies) + 1), accuracies, marker='o', linestyle='-')\n",
    "plt.xlabel('Fold Number')\n",
    "plt.ylabel('Accuracy')\n",
    "plt.title('Accuracy Evolution by Fold')\n",
    "plt.grid(True)\n",
    "plt.xticks(range(1, len(accuracies) + 1))\n",
    "plt.show()"
   ],
   "metadata": {
    "collapsed": false,
    "ExecuteTime": {
     "end_time": "2024-09-06T19:19:51.572478Z",
     "start_time": "2024-09-06T19:19:50.677052Z"
    }
   },
   "id": "af64c2066655ff1d",
   "execution_count": 13
  },
  {
   "cell_type": "code",
   "outputs": [],
   "source": [],
   "metadata": {
    "collapsed": false
   },
   "id": "fb8f69e0da130138"
  }
 ],
 "metadata": {
  "kernelspec": {
   "display_name": "Python 3",
   "language": "python",
   "name": "python3"
  },
  "language_info": {
   "codemirror_mode": {
    "name": "ipython",
    "version": 2
   },
   "file_extension": ".py",
   "mimetype": "text/x-python",
   "name": "python",
   "nbconvert_exporter": "python",
   "pygments_lexer": "ipython2",
   "version": "2.7.6"
  }
 },
 "nbformat": 4,
 "nbformat_minor": 5
}
