{
 "cells": [
  {
   "cell_type": "markdown",
   "source": [
    "Use previous model for made a prediction "
   ],
   "metadata": {
    "collapsed": false
   },
   "id": "c7c7b98620a9ddcd"
  },
  {
   "cell_type": "code",
   "outputs": [],
   "source": [
    "import xgboost as xgb\n",
    "import pandas as pd\n",
    "import cudf\n",
    "import numpy as np\n",
    "import time"
   ],
   "metadata": {
    "collapsed": false,
    "ExecuteTime": {
     "end_time": "2024-09-08T11:46:24.508068Z",
     "start_time": "2024-09-08T11:46:24.505619Z"
    }
   },
   "id": "a1a7676aa5d54f",
   "execution_count": 18
  },
  {
   "cell_type": "code",
   "outputs": [],
   "source": [
    "df = cudf.read_parquet('test.parquet')"
   ],
   "metadata": {
    "collapsed": true,
    "ExecuteTime": {
     "end_time": "2024-09-08T11:46:32.720409Z",
     "start_time": "2024-09-08T11:46:24.512490Z"
    }
   },
   "id": "initial_id",
   "execution_count": 19
  },
  {
   "cell_type": "code",
   "outputs": [],
   "source": [
    "df = df.set_index('customer_ID')"
   ],
   "metadata": {
    "collapsed": false,
    "ExecuteTime": {
     "end_time": "2024-09-08T11:46:33.088965Z",
     "start_time": "2024-09-08T11:46:32.723306Z"
    }
   },
   "id": "e75a08009b54195",
   "execution_count": 20
  },
  {
   "cell_type": "code",
   "outputs": [],
   "source": [
    "df = cudf.get_dummies(df, dtype= 'Int8')"
   ],
   "metadata": {
    "collapsed": false,
    "ExecuteTime": {
     "end_time": "2024-09-08T11:46:33.108123Z",
     "start_time": "2024-09-08T11:46:33.091466Z"
    }
   },
   "id": "e1e730235957602c",
   "execution_count": 21
  },
  {
   "cell_type": "code",
   "outputs": [],
   "source": [
    "df = df.astype('float32')"
   ],
   "metadata": {
    "collapsed": false,
    "ExecuteTime": {
     "end_time": "2024-09-08T11:46:33.115607Z",
     "start_time": "2024-09-08T11:46:33.110851Z"
    }
   },
   "id": "5980e947adb520a0",
   "execution_count": 22
  },
  {
   "cell_type": "code",
   "outputs": [],
   "source": [
    "df = df.fillna(0)"
   ],
   "metadata": {
    "collapsed": false,
    "ExecuteTime": {
     "end_time": "2024-09-08T11:46:33.411004Z",
     "start_time": "2024-09-08T11:46:33.117230Z"
    }
   },
   "id": "73920e4b06866ea4",
   "execution_count": 23
  },
  {
   "cell_type": "code",
   "outputs": [],
   "source": [
    "# Load the XGBoost model from the file\n",
    "xgb_model = xgb.XGBRFRegressor()\n",
    "xgb_model.load_model('xgboost_model.json')"
   ],
   "metadata": {
    "collapsed": false,
    "ExecuteTime": {
     "end_time": "2024-09-08T11:46:33.521957Z",
     "start_time": "2024-09-08T11:46:33.413369Z"
    }
   },
   "id": "f1315237b3b914d2",
   "execution_count": 24
  },
  {
   "cell_type": "code",
   "outputs": [],
   "source": [
    "df_numpy = df.to_pandas().values"
   ],
   "metadata": {
    "collapsed": false,
    "ExecuteTime": {
     "end_time": "2024-09-08T11:46:36.960778Z",
     "start_time": "2024-09-08T11:46:33.523808Z"
    }
   },
   "id": "16dd94598589de8a",
   "execution_count": 25
  },
  {
   "cell_type": "code",
   "outputs": [
    {
     "name": "stdout",
     "output_type": "stream",
     "text": [
      "Expected Features: None\n"
     ]
    }
   ],
   "source": [
    "# Get the list of features expected by the model\n",
    "expected_features = xgb_model.get_booster().feature_names\n",
    "print(\"Expected Features:\", expected_features)"
   ],
   "metadata": {
    "collapsed": false,
    "ExecuteTime": {
     "end_time": "2024-09-08T11:46:36.965669Z",
     "start_time": "2024-09-08T11:46:36.962493Z"
    }
   },
   "id": "86fd8203ee38cbcf",
   "execution_count": 26
  },
  {
   "cell_type": "code",
   "outputs": [
    {
     "name": "stdout",
     "output_type": "stream",
     "text": [
      "None\n",
      "['P_2', 'B_1', 'B_2', 'R_1', 'S_3', 'B_3', 'D_43', 'D_44', 'B_4', 'D_45', 'R_2', 'D_47', 'D_48', 'B_7', 'B_8', 'B_9', 'R_3', 'B_11', 'S_7', 'D_55', 'D_58', 'D_61', 'D_62', 'B_16', 'B_17', 'B_18', 'B_19', 'B_20', 'B_22', 'D_70', 'B_23', 'D_74', 'D_75', 'D_77', 'D_78', 'B_30', 'B_33', 'S_25', 'B_37', 'B_38']\n"
     ]
    }
   ],
   "source": [
    "# Get the list of features expected by the model\n",
    "expected_features = xgb_model.get_booster().feature_names\n",
    "print(expected_features)\n",
    "# Get the list of features present in the DataFrame\n",
    "df_features = df.columns.tolist()\n",
    "print(df_features)"
   ],
   "metadata": {
    "collapsed": false,
    "ExecuteTime": {
     "end_time": "2024-09-08T11:46:36.972145Z",
     "start_time": "2024-09-08T11:46:36.966609Z"
    }
   },
   "id": "da8146e66e605fa2",
   "execution_count": 27
  },
  {
   "cell_type": "code",
   "outputs": [],
   "source": [
    "preds = xgb_model.predict(df.values)"
   ],
   "metadata": {
    "collapsed": false,
    "ExecuteTime": {
     "end_time": "2024-09-08T11:47:15.110294Z",
     "start_time": "2024-09-08T11:46:36.973981Z"
    }
   },
   "id": "66b1a53109496cc9",
   "execution_count": 28
  },
  {
   "cell_type": "code",
   "outputs": [],
   "source": [
    "binary_preds = (preds > 0.5).astype(int)"
   ],
   "metadata": {
    "collapsed": false,
    "ExecuteTime": {
     "end_time": "2024-09-08T11:47:15.133042Z",
     "start_time": "2024-09-08T11:47:15.111448Z"
    }
   },
   "id": "311eb753e2288835",
   "execution_count": 29
  },
  {
   "cell_type": "code",
   "outputs": [],
   "source": [
    "result_df = cudf.DataFrame({\n",
    "    'customer_ID': df.index.to_pandas(),  # Convert index to pandas for compatibility\n",
    "    'prediction': binary_preds\n",
    "})"
   ],
   "metadata": {
    "collapsed": false,
    "ExecuteTime": {
     "end_time": "2024-09-08T11:47:16.396616Z",
     "start_time": "2024-09-08T11:47:15.134087Z"
    }
   },
   "id": "e241e7f01eedaf5f",
   "execution_count": 30
  },
  {
   "cell_type": "code",
   "outputs": [],
   "source": [
    "# Export the result DataFrame to a CSV file\n",
    "result_df.to_csv('predictions.csv', index=False)"
   ],
   "metadata": {
    "collapsed": false,
    "ExecuteTime": {
     "end_time": "2024-09-08T11:47:19.089813Z",
     "start_time": "2024-09-08T11:47:16.397729Z"
    }
   },
   "id": "c7c9cc52ec68a5e4",
   "execution_count": 31
  },
  {
   "cell_type": "code",
   "outputs": [],
   "source": [
    "timeproc = time.process_time()"
   ],
   "metadata": {
    "collapsed": false,
    "ExecuteTime": {
     "end_time": "2024-09-08T11:47:19.093299Z",
     "start_time": "2024-09-08T11:47:19.090930Z"
    }
   },
   "id": "a1f896d5f9f78a45",
   "execution_count": 32
  },
  {
   "cell_type": "code",
   "outputs": [
    {
     "name": "stdout",
     "output_type": "stream",
     "text": [
      "836.8315153\n"
     ]
    }
   ],
   "source": [
    "print(timeproc)"
   ],
   "metadata": {
    "collapsed": false,
    "ExecuteTime": {
     "end_time": "2024-09-08T11:47:19.099087Z",
     "start_time": "2024-09-08T11:47:19.094277Z"
    }
   },
   "id": "a8e560658c2174de",
   "execution_count": 33
  },
  {
   "cell_type": "code",
   "outputs": [],
   "source": [],
   "metadata": {
    "collapsed": false,
    "ExecuteTime": {
     "end_time": "2024-09-08T11:47:19.101702Z",
     "start_time": "2024-09-08T11:47:19.099958Z"
    }
   },
   "id": "b7c55d9a46d7a0cf",
   "execution_count": 33
  }
 ],
 "metadata": {
  "kernelspec": {
   "display_name": "Python 3",
   "language": "python",
   "name": "python3"
  },
  "language_info": {
   "codemirror_mode": {
    "name": "ipython",
    "version": 2
   },
   "file_extension": ".py",
   "mimetype": "text/x-python",
   "name": "python",
   "nbconvert_exporter": "python",
   "pygments_lexer": "ipython2",
   "version": "2.7.6"
  }
 },
 "nbformat": 4,
 "nbformat_minor": 5
}
