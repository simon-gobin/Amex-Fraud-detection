{
 "cells": [
  {
   "cell_type": "code",
   "outputs": [],
   "source": [
    "import xgboost as xgb\n",
    "import pandas as pd\n",
    "import cudf\n",
    "import numpy as np"
   ],
   "metadata": {
    "collapsed": false,
    "ExecuteTime": {
     "end_time": "2024-09-06T12:47:16.782575Z",
     "start_time": "2024-09-06T12:47:16.621667Z"
    }
   },
   "id": "a1a7676aa5d54f",
   "execution_count": 66
  },
  {
   "cell_type": "code",
   "outputs": [],
   "source": [
    "df = cudf.read_parquet('test.parquet')"
   ],
   "metadata": {
    "collapsed": true,
    "ExecuteTime": {
     "end_time": "2024-09-06T12:49:09.986828Z",
     "start_time": "2024-09-06T12:47:16.796810Z"
    }
   },
   "id": "initial_id",
   "execution_count": 67
  },
  {
   "cell_type": "code",
   "outputs": [],
   "source": [
    "df = df.set_index('customer_ID')"
   ],
   "metadata": {
    "collapsed": false,
    "ExecuteTime": {
     "end_time": "2024-09-06T12:49:10.474282Z",
     "start_time": "2024-09-06T12:49:09.995969Z"
    }
   },
   "id": "e75a08009b54195",
   "execution_count": 68
  },
  {
   "cell_type": "code",
   "outputs": [],
   "source": [
    "df = cudf.get_dummies(df, dtype= 'Int8')"
   ],
   "metadata": {
    "collapsed": false,
    "ExecuteTime": {
     "end_time": "2024-09-06T12:49:10.600766Z",
     "start_time": "2024-09-06T12:49:10.477008Z"
    }
   },
   "id": "e1e730235957602c",
   "execution_count": 69
  },
  {
   "cell_type": "code",
   "outputs": [],
   "source": [
    "df = df.astype('float32')"
   ],
   "metadata": {
    "collapsed": false,
    "ExecuteTime": {
     "end_time": "2024-09-06T12:49:10.614873Z",
     "start_time": "2024-09-06T12:49:10.604735Z"
    }
   },
   "id": "5980e947adb520a0",
   "execution_count": 70
  },
  {
   "cell_type": "code",
   "outputs": [],
   "source": [
    "df = df.fillna(0)"
   ],
   "metadata": {
    "collapsed": false,
    "ExecuteTime": {
     "end_time": "2024-09-06T12:49:10.924734Z",
     "start_time": "2024-09-06T12:49:10.617231Z"
    }
   },
   "id": "73920e4b06866ea4",
   "execution_count": 71
  },
  {
   "cell_type": "code",
   "outputs": [],
   "source": [
    "# Load the XGBoost model from the file\n",
    "xgb_model = xgb.XGBRFRegressor()\n",
    "xgb_model.load_model('xgboost_model.json')"
   ],
   "metadata": {
    "collapsed": false,
    "ExecuteTime": {
     "end_time": "2024-09-06T12:49:11.062806Z",
     "start_time": "2024-09-06T12:49:10.926635Z"
    }
   },
   "id": "f1315237b3b914d2",
   "execution_count": 72
  },
  {
   "cell_type": "code",
   "outputs": [],
   "source": [
    "df_numpy = df.to_pandas().values"
   ],
   "metadata": {
    "collapsed": false,
    "ExecuteTime": {
     "end_time": "2024-09-06T12:49:18.759172Z",
     "start_time": "2024-09-06T12:49:11.064265Z"
    }
   },
   "id": "16dd94598589de8a",
   "execution_count": 73
  },
  {
   "cell_type": "code",
   "outputs": [
    {
     "name": "stdout",
     "output_type": "stream",
     "text": [
      "Expected Features: None\n"
     ]
    }
   ],
   "source": [
    "# Get the list of features expected by the model\n",
    "expected_features = xgb_model.get_booster().feature_names\n",
    "print(\"Expected Features:\", expected_features)"
   ],
   "metadata": {
    "collapsed": false,
    "ExecuteTime": {
     "end_time": "2024-09-06T12:49:18.776245Z",
     "start_time": "2024-09-06T12:49:18.760655Z"
    }
   },
   "id": "86fd8203ee38cbcf",
   "execution_count": 74
  },
  {
   "cell_type": "code",
   "outputs": [
    {
     "name": "stdout",
     "output_type": "stream",
     "text": [
      "None\n",
      "['P_2', 'B_1', 'B_2', 'R_1', 'S_3', 'B_3', 'D_43', 'D_44', 'B_4', 'D_45', 'R_2', 'D_47', 'D_48', 'B_7', 'B_8', 'B_9', 'R_3', 'B_11', 'S_7', 'D_55', 'D_58', 'D_61', 'D_62', 'B_16', 'B_17', 'B_18', 'B_19', 'B_20', 'B_22', 'D_70', 'B_23', 'D_74', 'D_75', 'D_77', 'D_78', 'B_30', 'B_33', 'S_25', 'B_37', 'B_38']\n"
     ]
    }
   ],
   "source": [
    "# Get the list of features expected by the model\n",
    "expected_features = xgb_model.get_booster().feature_names\n",
    "print(expected_features)\n",
    "# Get the list of features present in the DataFrame\n",
    "df_features = df.columns.tolist()\n",
    "print(df_features)"
   ],
   "metadata": {
    "collapsed": false,
    "ExecuteTime": {
     "end_time": "2024-09-06T12:49:18.796038Z",
     "start_time": "2024-09-06T12:49:18.777643Z"
    }
   },
   "id": "da8146e66e605fa2",
   "execution_count": 75
  },
  {
   "cell_type": "code",
   "outputs": [
    {
     "name": "stderr",
     "output_type": "stream",
     "text": [
      "/home/simon/miniconda3/envs/rapids-24.08/lib/python3.11/site-packages/xgboost/core.py:158: UserWarning: [13:52:10] WARNING: /home/conda/feedstock_root/build_artifacts/xgboost-split_1722516643542/work/src/common/error_msg.cc:58: Falling back to prediction using DMatrix due to mismatched devices. This might lead to higher memory usage and slower performance. XGBoost is running on: cpu, while the input data is on: cuda:0.\n",
      "Potential solutions:\n",
      "- Use a data structure that matches the device ordinal in the booster.\n",
      "- Set the device for booster before call to inplace_predict.\n",
      "\n",
      "This warning will only be shown once.\n",
      "\n",
      "  warnings.warn(smsg, UserWarning)\n"
     ]
    }
   ],
   "source": [
    "preds = xgb_model.predict(df.values)"
   ],
   "metadata": {
    "collapsed": false,
    "ExecuteTime": {
     "end_time": "2024-09-06T12:52:54.448365Z",
     "start_time": "2024-09-06T12:52:10.181576Z"
    }
   },
   "id": "66b1a53109496cc9",
   "execution_count": 77
  },
  {
   "cell_type": "code",
   "outputs": [],
   "source": [
    "binary_preds = (preds > 0.5).astype(int)"
   ],
   "metadata": {
    "collapsed": false,
    "ExecuteTime": {
     "end_time": "2024-09-06T12:54:06.744080Z",
     "start_time": "2024-09-06T12:54:06.715772Z"
    }
   },
   "id": "311eb753e2288835",
   "execution_count": 78
  },
  {
   "cell_type": "code",
   "outputs": [],
   "source": [
    "result_df = cudf.DataFrame({\n",
    "    'customer_ID': df.index.to_pandas(),  # Convert index to pandas for compatibility\n",
    "    'prediction': binary_preds\n",
    "})"
   ],
   "metadata": {
    "collapsed": false,
    "ExecuteTime": {
     "end_time": "2024-09-06T12:56:26.078778Z",
     "start_time": "2024-09-06T12:56:24.436489Z"
    }
   },
   "id": "e241e7f01eedaf5f",
   "execution_count": 80
  },
  {
   "cell_type": "code",
   "outputs": [],
   "source": [
    "# Export the result DataFrame to a CSV file\n",
    "result_df.to_csv('predictions.csv', index=False)"
   ],
   "metadata": {
    "collapsed": false,
    "ExecuteTime": {
     "end_time": "2024-09-06T12:56:37.803900Z",
     "start_time": "2024-09-06T12:56:34.196472Z"
    }
   },
   "id": "c7c9cc52ec68a5e4",
   "execution_count": 81
  },
  {
   "cell_type": "code",
   "outputs": [],
   "source": [],
   "metadata": {
    "collapsed": false
   },
   "id": "a8e560658c2174de"
  }
 ],
 "metadata": {
  "kernelspec": {
   "display_name": "Python 3",
   "language": "python",
   "name": "python3"
  },
  "language_info": {
   "codemirror_mode": {
    "name": "ipython",
    "version": 2
   },
   "file_extension": ".py",
   "mimetype": "text/x-python",
   "name": "python",
   "nbconvert_exporter": "python",
   "pygments_lexer": "ipython2",
   "version": "2.7.6"
  }
 },
 "nbformat": 4,
 "nbformat_minor": 5
}
