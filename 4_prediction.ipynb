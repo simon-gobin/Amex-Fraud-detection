{
 "cells": [
  {
   "cell_type": "markdown",
   "id": "c7c7b98620a9ddcd",
   "metadata": {
    "collapsed": false,
    "jupyter": {
     "outputs_hidden": false
    }
   },
   "source": [
    "Use previous model for made a prediction "
   ]
  },
  {
   "cell_type": "code",
   "execution_count": 1,
   "id": "a1a7676aa5d54f",
   "metadata": {
    "ExecuteTime": {
     "end_time": "2024-09-08T11:46:24.508068Z",
     "start_time": "2024-09-08T11:46:24.505619Z"
    },
    "collapsed": false,
    "jupyter": {
     "outputs_hidden": false
    }
   },
   "outputs": [],
   "source": [
    "import xgboost as xgb\n",
    "import pandas as pd\n",
    "import cudf\n",
    "import numpy as np\n",
    "import time"
   ]
  },
  {
   "cell_type": "code",
   "execution_count": 2,
   "id": "initial_id",
   "metadata": {
    "ExecuteTime": {
     "end_time": "2024-09-08T11:46:32.720409Z",
     "start_time": "2024-09-08T11:46:24.512490Z"
    }
   },
   "outputs": [],
   "source": [
    "df = cudf.read_parquet('test.parquet')"
   ]
  },
  {
   "cell_type": "code",
   "execution_count": 3,
   "id": "e75a08009b54195",
   "metadata": {
    "ExecuteTime": {
     "end_time": "2024-09-08T11:46:33.088965Z",
     "start_time": "2024-09-08T11:46:32.723306Z"
    },
    "collapsed": false,
    "jupyter": {
     "outputs_hidden": false
    }
   },
   "outputs": [],
   "source": [
    "df = df.set_index('customer_ID')"
   ]
  },
  {
   "cell_type": "code",
   "execution_count": 4,
   "id": "e1e730235957602c",
   "metadata": {
    "ExecuteTime": {
     "end_time": "2024-09-08T11:46:33.108123Z",
     "start_time": "2024-09-08T11:46:33.091466Z"
    },
    "collapsed": false,
    "jupyter": {
     "outputs_hidden": false
    }
   },
   "outputs": [],
   "source": [
    "df = cudf.get_dummies(df, dtype= 'Int8')"
   ]
  },
  {
   "cell_type": "code",
   "execution_count": 5,
   "id": "5980e947adb520a0",
   "metadata": {
    "ExecuteTime": {
     "end_time": "2024-09-08T11:46:33.115607Z",
     "start_time": "2024-09-08T11:46:33.110851Z"
    },
    "collapsed": false,
    "jupyter": {
     "outputs_hidden": false
    }
   },
   "outputs": [],
   "source": [
    "df = df.astype('float32')"
   ]
  },
  {
   "cell_type": "code",
   "execution_count": 6,
   "id": "73920e4b06866ea4",
   "metadata": {
    "ExecuteTime": {
     "end_time": "2024-09-08T11:46:33.411004Z",
     "start_time": "2024-09-08T11:46:33.117230Z"
    },
    "collapsed": false,
    "jupyter": {
     "outputs_hidden": false
    }
   },
   "outputs": [],
   "source": [
    "df = df.fillna(0)"
   ]
  },
  {
   "cell_type": "code",
   "execution_count": 7,
   "id": "f1315237b3b914d2",
   "metadata": {
    "ExecuteTime": {
     "end_time": "2024-09-08T11:46:33.521957Z",
     "start_time": "2024-09-08T11:46:33.413369Z"
    },
    "collapsed": false,
    "jupyter": {
     "outputs_hidden": false
    }
   },
   "outputs": [],
   "source": [
    "# Load the XGBoost model from the file\n",
    "xgb_model = xgb.XGBRFRegressor()\n",
    "xgb_model.load_model('xgboost_model.json')"
   ]
  },
  {
   "cell_type": "code",
   "execution_count": 8,
   "id": "16dd94598589de8a",
   "metadata": {
    "ExecuteTime": {
     "end_time": "2024-09-08T11:46:36.960778Z",
     "start_time": "2024-09-08T11:46:33.523808Z"
    },
    "collapsed": false,
    "jupyter": {
     "outputs_hidden": false
    }
   },
   "outputs": [],
   "source": [
    "df_numpy = df.to_pandas().values"
   ]
  },
  {
   "cell_type": "code",
   "execution_count": 9,
   "id": "86fd8203ee38cbcf",
   "metadata": {
    "ExecuteTime": {
     "end_time": "2024-09-08T11:46:36.965669Z",
     "start_time": "2024-09-08T11:46:36.962493Z"
    },
    "collapsed": false,
    "jupyter": {
     "outputs_hidden": false
    }
   },
   "outputs": [
    {
     "name": "stdout",
     "output_type": "stream",
     "text": [
      "Expected Features: None\n"
     ]
    }
   ],
   "source": [
    "# Get the list of features expected by the model\n",
    "expected_features = xgb_model.get_booster().feature_names\n",
    "print(\"Expected Features:\", expected_features)"
   ]
  },
  {
   "cell_type": "code",
   "execution_count": 10,
   "id": "da8146e66e605fa2",
   "metadata": {
    "ExecuteTime": {
     "end_time": "2024-09-08T11:46:36.972145Z",
     "start_time": "2024-09-08T11:46:36.966609Z"
    },
    "collapsed": false,
    "jupyter": {
     "outputs_hidden": false
    }
   },
   "outputs": [
    {
     "name": "stdout",
     "output_type": "stream",
     "text": [
      "None\n",
      "['P_2', 'B_1', 'B_2', 'R_1', 'S_3', 'B_3', 'D_43', 'D_44', 'B_4', 'D_45', 'R_2', 'D_47', 'D_48', 'B_7', 'B_8', 'B_9', 'R_3', 'B_11', 'S_7', 'D_55', 'D_58', 'D_61', 'D_62', 'B_16', 'B_17', 'B_18', 'B_19', 'B_20', 'B_22', 'D_70', 'B_23', 'D_74', 'D_75', 'D_77', 'D_78', 'B_30', 'B_33', 'S_25', 'B_37', 'B_38']\n"
     ]
    }
   ],
   "source": [
    "# Get the list of features expected by the model\n",
    "expected_features = xgb_model.get_booster().feature_names\n",
    "print(expected_features)\n",
    "# Get the list of features present in the DataFrame\n",
    "df_features = df.columns.tolist()\n",
    "print(df_features)"
   ]
  },
  {
   "cell_type": "code",
   "execution_count": 11,
   "id": "66b1a53109496cc9",
   "metadata": {
    "ExecuteTime": {
     "end_time": "2024-09-08T11:47:15.110294Z",
     "start_time": "2024-09-08T11:46:36.973981Z"
    },
    "collapsed": false,
    "jupyter": {
     "outputs_hidden": false
    }
   },
   "outputs": [
    {
     "name": "stderr",
     "output_type": "stream",
     "text": [
      "/home/simon/miniconda3/envs/myenv/lib/python3.10/site-packages/xgboost/core.py:158: UserWarning: [14:57:40] WARNING: /home/conda/feedstock_root/build_artifacts/xgboost-split_1724807753241/work/src/common/error_msg.cc:58: Falling back to prediction using DMatrix due to mismatched devices. This might lead to higher memory usage and slower performance. XGBoost is running on: cpu, while the input data is on: cuda:0.\n",
      "Potential solutions:\n",
      "- Use a data structure that matches the device ordinal in the booster.\n",
      "- Set the device for booster before call to inplace_predict.\n",
      "\n",
      "This warning will only be shown once.\n",
      "\n",
      "  warnings.warn(smsg, UserWarning)\n"
     ]
    }
   ],
   "source": [
    "preds = xgb_model.predict(df.values)"
   ]
  },
  {
   "cell_type": "code",
   "execution_count": 12,
   "id": "311eb753e2288835",
   "metadata": {
    "ExecuteTime": {
     "end_time": "2024-09-08T11:47:15.133042Z",
     "start_time": "2024-09-08T11:47:15.111448Z"
    },
    "collapsed": false,
    "jupyter": {
     "outputs_hidden": false
    }
   },
   "outputs": [],
   "source": [
    "binary_preds = (preds > 0.5).astype(int)"
   ]
  },
  {
   "cell_type": "code",
   "execution_count": 13,
   "id": "e241e7f01eedaf5f",
   "metadata": {
    "ExecuteTime": {
     "end_time": "2024-09-08T11:47:16.396616Z",
     "start_time": "2024-09-08T11:47:15.134087Z"
    },
    "collapsed": false,
    "jupyter": {
     "outputs_hidden": false
    }
   },
   "outputs": [],
   "source": [
    "result_df = cudf.DataFrame({\n",
    "    'customer_ID': df.index.to_pandas(),  # Convert index to pandas for compatibility\n",
    "    'prediction': binary_preds\n",
    "})"
   ]
  },
  {
   "cell_type": "code",
   "execution_count": 14,
   "id": "c7c9cc52ec68a5e4",
   "metadata": {
    "ExecuteTime": {
     "end_time": "2024-09-08T11:47:19.089813Z",
     "start_time": "2024-09-08T11:47:16.397729Z"
    },
    "collapsed": false,
    "jupyter": {
     "outputs_hidden": false
    }
   },
   "outputs": [],
   "source": [
    "# Export the result DataFrame to a CSV file\n",
    "result_df.to_csv('predictions.csv', index=False)"
   ]
  },
  {
   "cell_type": "code",
   "execution_count": 15,
   "id": "a1f896d5f9f78a45",
   "metadata": {
    "ExecuteTime": {
     "end_time": "2024-09-08T11:47:19.093299Z",
     "start_time": "2024-09-08T11:47:19.090930Z"
    },
    "collapsed": false,
    "jupyter": {
     "outputs_hidden": false
    }
   },
   "outputs": [],
   "source": [
    "timeproc = time.process_time()"
   ]
  },
  {
   "cell_type": "code",
   "execution_count": 16,
   "id": "a8e560658c2174de",
   "metadata": {
    "ExecuteTime": {
     "end_time": "2024-09-08T11:47:19.099087Z",
     "start_time": "2024-09-08T11:47:19.094277Z"
    },
    "collapsed": false,
    "jupyter": {
     "outputs_hidden": false
    }
   },
   "outputs": [
    {
     "name": "stdout",
     "output_type": "stream",
     "text": [
      "503.7957894\n"
     ]
    }
   ],
   "source": [
    "print(timeproc)"
   ]
  },
  {
   "cell_type": "code",
   "execution_count": null,
   "id": "b7c55d9a46d7a0cf",
   "metadata": {
    "ExecuteTime": {
     "end_time": "2024-09-08T11:47:19.101702Z",
     "start_time": "2024-09-08T11:47:19.099958Z"
    },
    "collapsed": false,
    "jupyter": {
     "outputs_hidden": false
    }
   },
   "outputs": [],
   "source": []
  }
 ],
 "metadata": {
  "kernelspec": {
   "display_name": "Python 3 (ipykernel)",
   "language": "python",
   "name": "python3"
  },
  "language_info": {
   "codemirror_mode": {
    "name": "ipython",
    "version": 3
   },
   "file_extension": ".py",
   "mimetype": "text/x-python",
   "name": "python",
   "nbconvert_exporter": "python",
   "pygments_lexer": "ipython3",
   "version": "3.10.13"
  }
 },
 "nbformat": 4,
 "nbformat_minor": 5
}
