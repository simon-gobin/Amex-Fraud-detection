{
 "cells": [
  {
   "cell_type": "code",
   "outputs": [],
   "source": [
    "import cudf\n",
    "import cuml\n",
    "import pandas as pd\n",
    "from sklearn.model_selection import StratifiedKFold\n",
    "from sklearn.metrics import accuracy_score, precision_score, recall_score, f1_score, confusion_matrix, classification_report\n",
    "import xgboost as xgb\n",
    "import cupy as cp\n",
    "import numpy as np\n",
    "import matplotlib.pyplot as plt"
   ],
   "metadata": {
    "collapsed": false,
    "ExecuteTime": {
     "end_time": "2024-09-06T18:24:09.722126Z",
     "start_time": "2024-09-06T18:24:08.172175Z"
    }
   },
   "id": "4f008179d839b939",
   "execution_count": 1
  },
  {
   "cell_type": "code",
   "outputs": [],
   "source": [
    "top_features = ['R_1', 'D_48', 'D_74', 'B_19', 'B_8', 'B_38', 'B_20', 'D_62', 'D_45', 'B_22', \n",
    "                'S_3', 'B_9', 'S_25', 'B_37', 'B_11', 'P_2', 'R_3', 'D_78', 'S_7', 'D_44', \n",
    "                'B_1', 'D_43', 'D_77', 'B_7', 'B_33', 'D_70', 'B_16', 'D_75', 'R_2', 'B_17', \n",
    "                'D_55', 'B_2', 'D_58', 'B_4', 'B_30', 'B_3', 'D_61', 'B_18', 'D_47', 'B_23', 'code', 'target']\n"
   ],
   "metadata": {
    "collapsed": false,
    "ExecuteTime": {
     "end_time": "2024-09-06T18:24:09.726164Z",
     "start_time": "2024-09-06T18:24:09.723175Z"
    }
   },
   "id": "ff3a84deb8ebfcbd",
   "execution_count": 2
  },
  {
   "cell_type": "code",
   "outputs": [],
   "source": [
    "# Load data from the Parquet file, selecting only relevant columns\n",
    "df = cudf.read_parquet('df.parquet', columns=top_features)"
   ],
   "metadata": {
    "collapsed": false,
    "ExecuteTime": {
     "end_time": "2024-09-06T18:24:12.856260Z",
     "start_time": "2024-09-06T18:24:09.727901Z"
    }
   },
   "id": "a3f0ed1617f1243f",
   "execution_count": 3
  },
  {
   "cell_type": "code",
   "outputs": [],
   "source": [
    "# Select target and features\n",
    "y = df['target']\n",
    "X = df.drop('target', axis=1)"
   ],
   "metadata": {
    "collapsed": false,
    "ExecuteTime": {
     "end_time": "2024-09-06T18:24:12.908004Z",
     "start_time": "2024-09-06T18:24:12.857404Z"
    }
   },
   "id": "d123270a107bc656",
   "execution_count": 4
  },
  {
   "cell_type": "code",
   "outputs": [
    {
     "name": "stdout",
     "output_type": "stream",
     "text": [
      "Missing features: set()\n"
     ]
    }
   ],
   "source": [
    "# Check for missing features\n",
    "miss = set(X.columns) - set(top_features)\n",
    "print(f'Missing features: {miss}')"
   ],
   "metadata": {
    "collapsed": false,
    "ExecuteTime": {
     "end_time": "2024-09-06T18:24:12.912396Z",
     "start_time": "2024-09-06T18:24:12.909092Z"
    }
   },
   "id": "2a8780a6facacc04",
   "execution_count": 5
  },
  {
   "cell_type": "code",
   "outputs": [],
   "source": [
    "# Define the StratifiedKFold cross-validation\n",
    "kf = StratifiedKFold(n_splits=5, shuffle=True)\n"
   ],
   "metadata": {
    "collapsed": false,
    "ExecuteTime": {
     "end_time": "2024-09-06T18:24:12.930486Z",
     "start_time": "2024-09-06T18:24:12.913369Z"
    }
   },
   "id": "c76cfadee51ff32",
   "execution_count": 6
  },
  {
   "cell_type": "code",
   "outputs": [],
   "source": [
    "# Convert cuDF DataFrame to pandas for compatibility with KFold\n",
    "X = X.to_pandas().values\n",
    "y = y.to_pandas().values"
   ],
   "metadata": {
    "collapsed": false,
    "ExecuteTime": {
     "end_time": "2024-09-06T18:24:13.530014Z",
     "start_time": "2024-09-06T18:24:12.931506Z"
    }
   },
   "id": "d9a5136c0e46dec0",
   "execution_count": 7
  },
  {
   "cell_type": "code",
   "outputs": [
    {
     "name": "stdout",
     "output_type": "stream",
     "text": [
      "Scale_pos_weight: 3.0144970240276834\n"
     ]
    }
   ],
   "source": [
    "# Calculate scale_pos_weight based on class distribution\n",
    "number_of_negative_samples = (y == 0).sum()\n",
    "number_of_positive_samples = (y == 1).sum()\n",
    "scale_pos_weight = number_of_negative_samples / number_of_positive_samples\n",
    "print(f\"Scale_pos_weight: {scale_pos_weight}\")"
   ],
   "metadata": {
    "collapsed": false,
    "ExecuteTime": {
     "end_time": "2024-09-06T18:24:13.539412Z",
     "start_time": "2024-09-06T18:24:13.531155Z"
    }
   },
   "id": "c86d77f83ef32b22",
   "execution_count": 8
  },
  {
   "cell_type": "code",
   "outputs": [],
   "source": [
    "# Initialize lists to store metrics for plotting\n",
    "logloss_values = []\n",
    "accuracies = []\n",
    "precisions = []\n",
    "recalls = []\n",
    "f1_scores = []"
   ],
   "metadata": {
    "collapsed": false,
    "ExecuteTime": {
     "end_time": "2024-09-06T18:24:13.546365Z",
     "start_time": "2024-09-06T18:24:13.540562Z"
    }
   },
   "id": "84886554f3e4a720",
   "execution_count": 9
  },
  {
   "cell_type": "code",
   "outputs": [],
   "source": [
    "# Define model parameters, including eval_metric in the params dictionary\n",
    "params = {\n",
    "    'max_depth': 4,\n",
    "    'learning_rate': 0.05,\n",
    "    'n_estimators': 100,\n",
    "    'subsample': 0.8,\n",
    "    'colsample_bytree': 0.6,\n",
    "    'objective': 'binary:logistic',\n",
    "    'tree_method': 'hist',\n",
    "    'random_state': 42,\n",
    "    'scale_pos_weight': scale_pos_weight,\n",
    "    'gamma': 0.1,\n",
    "    'min_child_weight': 1,\n",
    "    'eval_metric': 'logloss'  # Set eval_metric here\n",
    "}"
   ],
   "metadata": {
    "collapsed": false,
    "ExecuteTime": {
     "end_time": "2024-09-06T18:24:13.563270Z",
     "start_time": "2024-09-06T18:24:13.547293Z"
    }
   },
   "id": "5165fb74a4de5aeb",
   "execution_count": 10
  },
  {
   "cell_type": "code",
   "outputs": [
    {
     "name": "stderr",
     "output_type": "stream",
     "text": [
      "/home/simon/miniconda3/envs/rapids-24.08/lib/python3.11/site-packages/xgboost/core.py:158: UserWarning: [19:24:15] WARNING: /home/conda/feedstock_root/build_artifacts/xgboost-split_1722516643542/work/src/learner.cc:740: \n",
      "Parameters: { \"n_estimators\" } are not used.\n",
      "\n",
      "  warnings.warn(smsg, UserWarning)\n"
     ]
    },
    {
     "name": "stdout",
     "output_type": "stream",
     "text": [
      "[0]\ttrain-logloss:0.66778\tvalidation-logloss:0.66780\n",
      "[100]\ttrain-logloss:0.35068\tvalidation-logloss:0.35123\n",
      "[200]\ttrain-logloss:0.34284\tvalidation-logloss:0.34363\n",
      "[300]\ttrain-logloss:0.33962\tvalidation-logloss:0.34058\n",
      "[400]\ttrain-logloss:0.33771\tvalidation-logloss:0.33881\n",
      "[500]\ttrain-logloss:0.33628\tvalidation-logloss:0.33752\n",
      "[600]\ttrain-logloss:0.33519\tvalidation-logloss:0.33658\n",
      "[700]\ttrain-logloss:0.33428\tvalidation-logloss:0.33578\n",
      "[800]\ttrain-logloss:0.33354\tvalidation-logloss:0.33515\n",
      "[900]\ttrain-logloss:0.33285\tvalidation-logloss:0.33458\n",
      "[999]\ttrain-logloss:0.33232\tvalidation-logloss:0.33415\n",
      "Fold 1 Accuracy: 0.8446\n",
      "Fold 1 Precision: 0.6317\n",
      "Fold 1 Recall: 0.9024\n",
      "Fold 1 F1 Score: 0.7431\n",
      "[[685703 145014]\n",
      " [ 26893 248681]]\n",
      "              precision    recall  f1-score   support\n",
      "\n",
      "   Non-Fraud       0.96      0.83      0.89    830717\n",
      "       Fraud       0.63      0.90      0.74    275574\n",
      "\n",
      "    accuracy                           0.84   1106291\n",
      "   macro avg       0.80      0.86      0.82   1106291\n",
      "weighted avg       0.88      0.84      0.85   1106291\n"
     ]
    },
    {
     "name": "stderr",
     "output_type": "stream",
     "text": [
      "/home/simon/miniconda3/envs/rapids-24.08/lib/python3.11/site-packages/xgboost/core.py:158: UserWarning: [19:27:21] WARNING: /home/conda/feedstock_root/build_artifacts/xgboost-split_1722516643542/work/src/learner.cc:740: \n",
      "Parameters: { \"n_estimators\" } are not used.\n",
      "\n",
      "  warnings.warn(smsg, UserWarning)\n"
     ]
    },
    {
     "name": "stdout",
     "output_type": "stream",
     "text": [
      "[0]\ttrain-logloss:0.66779\tvalidation-logloss:0.66781\n",
      "[100]\ttrain-logloss:0.35061\tvalidation-logloss:0.35154\n",
      "[200]\ttrain-logloss:0.34298\tvalidation-logloss:0.34401\n",
      "[300]\ttrain-logloss:0.33968\tvalidation-logloss:0.34079\n",
      "[400]\ttrain-logloss:0.33777\tvalidation-logloss:0.33894\n",
      "[500]\ttrain-logloss:0.33641\tvalidation-logloss:0.33766\n",
      "[600]\ttrain-logloss:0.33535\tvalidation-logloss:0.33668\n",
      "[700]\ttrain-logloss:0.33442\tvalidation-logloss:0.33585\n",
      "[800]\ttrain-logloss:0.33364\tvalidation-logloss:0.33516\n",
      "[900]\ttrain-logloss:0.33301\tvalidation-logloss:0.33463\n",
      "[999]\ttrain-logloss:0.33243\tvalidation-logloss:0.33414\n",
      "Fold 2 Accuracy: 0.8444\n",
      "Fold 2 Precision: 0.6313\n",
      "Fold 2 Recall: 0.9027\n",
      "Fold 2 F1 Score: 0.7430\n",
      "[[685452 145265]\n",
      " [ 26826 248747]]\n",
      "              precision    recall  f1-score   support\n",
      "\n",
      "   Non-Fraud       0.96      0.83      0.89    830717\n",
      "       Fraud       0.63      0.90      0.74    275573\n",
      "\n",
      "    accuracy                           0.84   1106290\n",
      "   macro avg       0.80      0.86      0.82   1106290\n",
      "weighted avg       0.88      0.84      0.85   1106290\n"
     ]
    },
    {
     "name": "stderr",
     "output_type": "stream",
     "text": [
      "/home/simon/miniconda3/envs/rapids-24.08/lib/python3.11/site-packages/xgboost/core.py:158: UserWarning: [19:30:21] WARNING: /home/conda/feedstock_root/build_artifacts/xgboost-split_1722516643542/work/src/learner.cc:740: \n",
      "Parameters: { \"n_estimators\" } are not used.\n",
      "\n",
      "  warnings.warn(smsg, UserWarning)\n"
     ]
    },
    {
     "name": "stdout",
     "output_type": "stream",
     "text": [
      "[0]\ttrain-logloss:0.66779\tvalidation-logloss:0.66780\n",
      "[100]\ttrain-logloss:0.35082\tvalidation-logloss:0.35076\n",
      "[200]\ttrain-logloss:0.34311\tvalidation-logloss:0.34312\n",
      "[300]\ttrain-logloss:0.33989\tvalidation-logloss:0.34005\n",
      "[400]\ttrain-logloss:0.33789\tvalidation-logloss:0.33819\n",
      "[500]\ttrain-logloss:0.33660\tvalidation-logloss:0.33700\n",
      "[600]\ttrain-logloss:0.33550\tvalidation-logloss:0.33601\n",
      "[700]\ttrain-logloss:0.33460\tvalidation-logloss:0.33523\n",
      "[800]\ttrain-logloss:0.33380\tvalidation-logloss:0.33455\n",
      "[900]\ttrain-logloss:0.33309\tvalidation-logloss:0.33394\n",
      "[999]\ttrain-logloss:0.33255\tvalidation-logloss:0.33351\n",
      "Fold 3 Accuracy: 0.8444\n",
      "Fold 3 Precision: 0.6313\n",
      "Fold 3 Recall: 0.9020\n",
      "Fold 3 F1 Score: 0.7428\n",
      "[[685556 145160]\n",
      " [ 27010 248564]]\n",
      "              precision    recall  f1-score   support\n",
      "\n",
      "   Non-Fraud       0.96      0.83      0.89    830716\n",
      "       Fraud       0.63      0.90      0.74    275574\n",
      "\n",
      "    accuracy                           0.84   1106290\n",
      "   macro avg       0.80      0.86      0.82   1106290\n",
      "weighted avg       0.88      0.84      0.85   1106290\n"
     ]
    },
    {
     "name": "stderr",
     "output_type": "stream",
     "text": [
      "/home/simon/miniconda3/envs/rapids-24.08/lib/python3.11/site-packages/xgboost/core.py:158: UserWarning: [19:33:26] WARNING: /home/conda/feedstock_root/build_artifacts/xgboost-split_1722516643542/work/src/learner.cc:740: \n",
      "Parameters: { \"n_estimators\" } are not used.\n",
      "\n",
      "  warnings.warn(smsg, UserWarning)\n"
     ]
    },
    {
     "name": "stdout",
     "output_type": "stream",
     "text": [
      "[0]\ttrain-logloss:0.66780\tvalidation-logloss:0.66774\n",
      "[100]\ttrain-logloss:0.35102\tvalidation-logloss:0.35017\n",
      "[200]\ttrain-logloss:0.34337\tvalidation-logloss:0.34264\n",
      "[300]\ttrain-logloss:0.34015\tvalidation-logloss:0.33952\n",
      "[400]\ttrain-logloss:0.33813\tvalidation-logloss:0.33759\n",
      "[500]\ttrain-logloss:0.33676\tvalidation-logloss:0.33634\n",
      "[600]\ttrain-logloss:0.33566\tvalidation-logloss:0.33536\n",
      "[700]\ttrain-logloss:0.33473\tvalidation-logloss:0.33453\n",
      "[800]\ttrain-logloss:0.33396\tvalidation-logloss:0.33388\n",
      "[900]\ttrain-logloss:0.33325\tvalidation-logloss:0.33326\n",
      "[999]\ttrain-logloss:0.33271\tvalidation-logloss:0.33284\n",
      "Fold 4 Accuracy: 0.8452\n",
      "Fold 4 Precision: 0.6326\n",
      "Fold 4 Recall: 0.9031\n",
      "Fold 4 F1 Score: 0.7440\n",
      "[[686179 144537]\n",
      " [ 26712 248862]]\n",
      "              precision    recall  f1-score   support\n",
      "\n",
      "   Non-Fraud       0.96      0.83      0.89    830716\n",
      "       Fraud       0.63      0.90      0.74    275574\n",
      "\n",
      "    accuracy                           0.85   1106290\n",
      "   macro avg       0.80      0.86      0.82   1106290\n",
      "weighted avg       0.88      0.85      0.85   1106290\n"
     ]
    },
    {
     "name": "stderr",
     "output_type": "stream",
     "text": [
      "/home/simon/miniconda3/envs/rapids-24.08/lib/python3.11/site-packages/xgboost/core.py:158: UserWarning: [19:36:26] WARNING: /home/conda/feedstock_root/build_artifacts/xgboost-split_1722516643542/work/src/learner.cc:740: \n",
      "Parameters: { \"n_estimators\" } are not used.\n",
      "\n",
      "  warnings.warn(smsg, UserWarning)\n"
     ]
    },
    {
     "name": "stdout",
     "output_type": "stream",
     "text": [
      "[0]\ttrain-logloss:0.66779\tvalidation-logloss:0.66781\n",
      "[100]\ttrain-logloss:0.35067\tvalidation-logloss:0.35119\n",
      "[200]\ttrain-logloss:0.34308\tvalidation-logloss:0.34374\n",
      "[300]\ttrain-logloss:0.33978\tvalidation-logloss:0.34055\n",
      "[400]\ttrain-logloss:0.33786\tvalidation-logloss:0.33871\n",
      "[500]\ttrain-logloss:0.33643\tvalidation-logloss:0.33739\n",
      "[600]\ttrain-logloss:0.33536\tvalidation-logloss:0.33641\n",
      "[700]\ttrain-logloss:0.33449\tvalidation-logloss:0.33563\n",
      "[800]\ttrain-logloss:0.33373\tvalidation-logloss:0.33496\n",
      "[900]\ttrain-logloss:0.33302\tvalidation-logloss:0.33434\n",
      "[999]\ttrain-logloss:0.33243\tvalidation-logloss:0.33383\n",
      "Fold 5 Accuracy: 0.8444\n",
      "Fold 5 Precision: 0.6313\n",
      "Fold 5 Recall: 0.9022\n",
      "Fold 5 F1 Score: 0.7428\n",
      "[[685528 145188]\n",
      " [ 26948 248626]]\n",
      "              precision    recall  f1-score   support\n",
      "\n",
      "   Non-Fraud       0.96      0.83      0.89    830716\n",
      "       Fraud       0.63      0.90      0.74    275574\n",
      "\n",
      "    accuracy                           0.84   1106290\n",
      "   macro avg       0.80      0.86      0.82   1106290\n",
      "weighted avg       0.88      0.84      0.85   1106290\n",
      "\n",
      "Average Accuracy: 0.8446\n",
      "Average Precision: 0.6316\n",
      "Average Recall: 0.9025\n",
      "Average F1 Score: 0.7431\n"
     ]
    }
   ],
   "source": [
    "\n",
    "# Loop over KFold splits for importance feature\n",
    "fold_number = 1\n",
    "for train_index, test_index in kf.split(X, y):\n",
    "    # Indexing using numpy arrays or pandas DataFrames\n",
    "    X_train_fold, X_test_fold = X[train_index], X[test_index]\n",
    "    y_train_fold, y_test_fold = y[train_index], y[test_index]\n",
    "    \n",
    "    # Create DMatrix for training and testing\n",
    "    dtrain = xgb.DMatrix(X_train_fold, label=y_train_fold)\n",
    "    dtest = xgb.DMatrix(X_test_fold, label=y_test_fold)\n",
    "    \n",
    "    # Define eval_set for tracking log loss during training\n",
    "    evals = [(dtrain, 'train'), (dtest, 'validation')]\n",
    "    \n",
    "    # Train the model with early stopping\n",
    "    evals_result = {}\n",
    "    xgb_model = xgb.train(\n",
    "        params,\n",
    "        dtrain,\n",
    "        num_boost_round=1000,\n",
    "        evals=evals,\n",
    "        early_stopping_rounds=10,\n",
    "        evals_result=evals_result,\n",
    "        verbose_eval=100\n",
    "    )\n",
    "    \n",
    "   # Capture log loss values in a DataFrame\n",
    "    logloss_values.append(evals_result['validation']['logloss'])\n",
    "    \n",
    "    \n",
    "    # Predict on the test fold\n",
    "    y_pred_fold_prob = xgb_model.predict(dtest)\n",
    "    \n",
    "    # Convert probabilities to binary predictions (using 0.5 as the threshold)\n",
    "    y_pred_fold = (y_pred_fold_prob > 0.5).astype(int)\n",
    "\n",
    "    # Calculate metrics for this fold\n",
    "    accuracy = accuracy_score(y_test_fold, y_pred_fold)\n",
    "    precision = precision_score(y_test_fold, y_pred_fold, zero_division=1)\n",
    "    recall = recall_score(y_test_fold, y_pred_fold, zero_division=1)\n",
    "    f1 = f1_score(y_test_fold, y_pred_fold, zero_division=1)\n",
    "\n",
    "    # Append metrics to the lists\n",
    "    accuracies.append(accuracy)\n",
    "    precisions.append(precision)\n",
    "    recalls.append(recall)\n",
    "    f1_scores.append(f1)\n",
    "\n",
    "    # Print metrics for the current fold\n",
    "    print(f'Fold {fold_number} Accuracy: {accuracy:.4f}')\n",
    "    print(f'Fold {fold_number} Precision: {precision:.4f}')\n",
    "    print(f'Fold {fold_number} Recall: {recall:.4f}')\n",
    "    print(f'Fold {fold_number} F1 Score: {f1:.4f}')\n",
    "    print(confusion_matrix(y_test_fold, y_pred_fold))\n",
    "    print(classification_report(y_test_fold, y_pred_fold, target_names=['Non-Fraud', 'Fraud']))\n",
    "    \n",
    "    fold_number += 1\n",
    "\n",
    "# Calculate and print average metrics\n",
    "print(f'Average Accuracy: {np.mean(accuracies):.4f}')\n",
    "print(f'Average Precision: {np.mean(precisions):.4f}')\n",
    "print(f'Average Recall: {np.mean(recalls):.4f}')\n",
    "print(f'Average F1 Score: {np.mean(f1_scores):.4f}')\n"
   ],
   "metadata": {
    "collapsed": false,
    "ExecuteTime": {
     "end_time": "2024-09-06T18:39:23.945153Z",
     "start_time": "2024-09-06T18:24:13.564332Z"
    }
   },
   "id": "a527f5c9edc4c369",
   "execution_count": 11
  },
  {
   "cell_type": "code",
   "outputs": [
    {
     "data": {
      "text/plain": "<Figure size 1000x600 with 1 Axes>",
      "image/png": "[encoded data removed]"
     },
     "metadata": {},
     "output_type": "display_data"
    }
   ],
   "source": [
    "# Plot the accuracy evolution by fold\n",
    "plt.figure(figsize=(10, 6))\n",
    "plt.plot(range(1, len(accuracies) + 1), accuracies, marker='o', linestyle='-')\n",
    "plt.xlabel('Fold Number')\n",
    "plt.ylabel('Accuracy')\n",
    "plt.title('Accuracy Evolution by Fold')\n",
    "plt.grid(True)\n",
    "plt.xticks(range(1, len(accuracies) + 1))\n",
    "plt.show()"
   ],
   "metadata": {
    "collapsed": false,
    "ExecuteTime": {
     "end_time": "2024-09-06T18:39:24.040730Z",
     "start_time": "2024-09-06T18:39:23.947119Z"
    }
   },
   "id": "7fd10070216ebfdb",
   "execution_count": 12
  },
  {
   "cell_type": "code",
   "outputs": [
    {
     "data": {
      "text/plain": "<Figure size 1000x600 with 1 Axes>",
      "image/png": "[encoded data removed]"
     },
     "metadata": {},
     "output_type": "display_data"
    }
   ],
   "source": [
    "# Plot the log loss evolution by fold\n",
    "plt.figure(figsize=(10, 6))\n",
    "for fold, logloss in enumerate(logloss_values, start=1):\n",
    "    plt.plot(logloss, label=f'Fold {fold}')\n",
    "plt.xlabel('Number of Rounds')\n",
    "plt.ylabel('Log Loss')\n",
    "plt.title('Log Loss Evolution by Fold')\n",
    "plt.grid(True)\n",
    "plt.legend()\n",
    "plt.show()"
   ],
   "metadata": {
    "collapsed": false,
    "ExecuteTime": {
     "end_time": "2024-09-06T19:13:38.765407Z",
     "start_time": "2024-09-06T19:13:38.648464Z"
    }
   },
   "id": "5878c966f7624c2c",
   "execution_count": 17
  },
  {
   "cell_type": "code",
   "outputs": [],
   "source": [
    "xgb_model.save_model('xgboost_model.json')"
   ],
   "metadata": {
    "collapsed": false,
    "ExecuteTime": {
     "end_time": "2024-09-06T19:17:05.608988Z",
     "start_time": "2024-09-06T19:17:05.579348Z"
    }
   },
   "id": "f6fe4fd833dd54ed",
   "execution_count": 18
  },
  {
   "cell_type": "code",
   "outputs": [],
   "source": [],
   "metadata": {
    "collapsed": false
   },
   "id": "5c9fd9e032ff262f"
  }
 ],
 "metadata": {
  "kernelspec": {
   "display_name": "Python 3",
   "language": "python",
   "name": "python3"
  },
  "language_info": {
   "codemirror_mode": {
    "name": "ipython",
    "version": 2
   },
   "file_extension": ".py",
   "mimetype": "text/x-python",
   "name": "python",
   "nbconvert_exporter": "python",
   "pygments_lexer": "ipython2",
   "version": "2.7.6"
  }
 },
 "nbformat": 4,
 "nbformat_minor": 5
}
