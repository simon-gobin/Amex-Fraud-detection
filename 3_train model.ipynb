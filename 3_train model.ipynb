{
 "cells": [
  {
   "cell_type": "markdown",
   "id": "8bc06e57aedc3a86",
   "metadata": {
    "collapsed": false,
    "jupyter": {
     "outputs_hidden": false
    }
   },
   "source": [
    "In this part I use the previous model and train it, i integrate more parameters for make the model more precise and avoidng overfitting by a cross validation with Kfold stratiffier "
   ]
  },
  {
   "cell_type": "code",
   "execution_count": 1,
   "id": "4f008179d839b939",
   "metadata": {
    "ExecuteTime": {
     "end_time": "2024-09-06T18:24:09.722126Z",
     "start_time": "2024-09-06T18:24:08.172175Z"
    },
    "collapsed": false,
    "jupyter": {
     "outputs_hidden": false
    }
   },
   "outputs": [],
   "source": [
    "import cudf\n",
    "import cuml\n",
    "import pandas as pd\n",
    "from sklearn.model_selection import StratifiedKFold\n",
    "from sklearn.metrics import accuracy_score, precision_score, recall_score, f1_score, confusion_matrix, classification_report\n",
    "import xgboost as xgb\n",
    "import cupy as cp\n",
    "import numpy as np\n",
    "import matplotlib.pyplot as plt"
   ]
  },
  {
   "cell_type": "code",
   "execution_count": 2,
   "id": "ff3a84deb8ebfcbd",
   "metadata": {
    "ExecuteTime": {
     "end_time": "2024-09-06T18:24:09.726164Z",
     "start_time": "2024-09-06T18:24:09.723175Z"
    },
    "collapsed": false,
    "jupyter": {
     "outputs_hidden": false
    }
   },
   "outputs": [],
   "source": [
    "top_features = ['R_1', 'D_48', 'D_74', 'B_19', 'B_8', 'B_38', 'B_20', 'D_62', 'D_45', 'B_22', \n",
    "                'S_3', 'B_9', 'S_25', 'B_37', 'B_11', 'P_2', 'R_3', 'D_78', 'S_7', 'D_44', \n",
    "                'B_1', 'D_43', 'D_77', 'B_7', 'B_33', 'D_70', 'B_16', 'D_75', 'R_2', 'B_17', \n",
    "                'D_55', 'B_2', 'D_58', 'B_4', 'B_30', 'B_3', 'D_61', 'B_18', 'D_47', 'B_23', 'code', 'target']\n"
   ]
  },
  {
   "cell_type": "code",
   "execution_count": 3,
   "id": "a3f0ed1617f1243f",
   "metadata": {
    "ExecuteTime": {
     "end_time": "2024-09-06T18:24:12.856260Z",
     "start_time": "2024-09-06T18:24:09.727901Z"
    },
    "collapsed": false,
    "jupyter": {
     "outputs_hidden": false
    }
   },
   "outputs": [],
   "source": [
    "# Load data from the Parquet file, selecting only relevant columns\n",
    "df = cudf.read_parquet('df.parquet', columns=top_features)"
   ]
  },
  {
   "cell_type": "code",
   "execution_count": 4,
   "id": "d123270a107bc656",
   "metadata": {
    "ExecuteTime": {
     "end_time": "2024-09-06T18:24:12.908004Z",
     "start_time": "2024-09-06T18:24:12.857404Z"
    },
    "collapsed": false,
    "jupyter": {
     "outputs_hidden": false
    }
   },
   "outputs": [],
   "source": [
    "# Select target and features\n",
    "y = df['target']\n",
    "X = df.drop('target', axis=1)"
   ]
  },
  {
   "cell_type": "code",
   "execution_count": 5,
   "id": "2a8780a6facacc04",
   "metadata": {
    "ExecuteTime": {
     "end_time": "2024-09-06T18:24:12.912396Z",
     "start_time": "2024-09-06T18:24:12.909092Z"
    },
    "collapsed": false,
    "jupyter": {
     "outputs_hidden": false
    }
   },
   "outputs": [
    {
     "name": "stdout",
     "output_type": "stream",
     "text": [
      "Missing features: set()\n"
     ]
    }
   ],
   "source": [
    "# Check for missing features\n",
    "miss = set(X.columns) - set(top_features)\n",
    "print(f'Missing features: {miss}')"
   ]
  },
  {
   "cell_type": "code",
   "execution_count": 6,
   "id": "c76cfadee51ff32",
   "metadata": {
    "ExecuteTime": {
     "end_time": "2024-09-06T18:24:12.930486Z",
     "start_time": "2024-09-06T18:24:12.913369Z"
    },
    "collapsed": false,
    "jupyter": {
     "outputs_hidden": false
    }
   },
   "outputs": [],
   "source": [
    "# Define the StratifiedKFold cross-validation\n",
    "kf = StratifiedKFold(n_splits=5, shuffle=True)\n"
   ]
  },
  {
   "cell_type": "code",
   "execution_count": 7,
   "id": "d9a5136c0e46dec0",
   "metadata": {
    "ExecuteTime": {
     "end_time": "2024-09-06T18:24:13.530014Z",
     "start_time": "2024-09-06T18:24:12.931506Z"
    },
    "collapsed": false,
    "jupyter": {
     "outputs_hidden": false
    }
   },
   "outputs": [],
   "source": [
    "# Convert cuDF DataFrame to pandas for compatibility with KFold\n",
    "X = X.to_pandas().values\n",
    "y = y.to_pandas().values"
   ]
  },
  {
   "cell_type": "code",
   "execution_count": 8,
   "id": "c86d77f83ef32b22",
   "metadata": {
    "ExecuteTime": {
     "end_time": "2024-09-06T18:24:13.539412Z",
     "start_time": "2024-09-06T18:24:13.531155Z"
    },
    "collapsed": false,
    "jupyter": {
     "outputs_hidden": false
    }
   },
   "outputs": [
    {
     "name": "stdout",
     "output_type": "stream",
     "text": [
      "Scale_pos_weight: 3.0144970240276834\n"
     ]
    }
   ],
   "source": [
    "# Calculate scale_pos_weight based on class distribution\n",
    "number_of_negative_samples = (y == 0).sum()\n",
    "number_of_positive_samples = (y == 1).sum()\n",
    "scale_pos_weight = number_of_negative_samples / number_of_positive_samples\n",
    "print(f\"Scale_pos_weight: {scale_pos_weight}\")"
   ]
  },
  {
   "cell_type": "code",
   "execution_count": 9,
   "id": "84886554f3e4a720",
   "metadata": {
    "ExecuteTime": {
     "end_time": "2024-09-06T18:24:13.546365Z",
     "start_time": "2024-09-06T18:24:13.540562Z"
    },
    "collapsed": false,
    "jupyter": {
     "outputs_hidden": false
    }
   },
   "outputs": [],
   "source": [
    "# Initialize lists to store metrics for plotting\n",
    "logloss_values = []\n",
    "accuracies = []\n",
    "precisions = []\n",
    "recalls = []\n",
    "f1_scores = []"
   ]
  },
  {
   "cell_type": "code",
   "execution_count": 10,
   "id": "5165fb74a4de5aeb",
   "metadata": {
    "ExecuteTime": {
     "end_time": "2024-09-06T18:24:13.563270Z",
     "start_time": "2024-09-06T18:24:13.547293Z"
    },
    "collapsed": false,
    "jupyter": {
     "outputs_hidden": false
    }
   },
   "outputs": [],
   "source": [
    "# Define model parameters, including eval_metric in the params dictionary\n",
    "params = {\n",
    "    'max_depth': 4,\n",
    "    'learning_rate': 0.05,\n",
    "    'n_estimators': 100,\n",
    "    'subsample': 0.8,\n",
    "    'colsample_bytree': 0.6,\n",
    "    'objective': 'binary:logistic',\n",
    "    'tree_method': 'hist',\n",
    "    'random_state': 42,\n",
    "    'scale_pos_weight': scale_pos_weight,\n",
    "    'gamma': 0.1,\n",
    "    'min_child_weight': 1,\n",
    "    'eval_metric': 'logloss' \n",
    "}"
   ]
  },
  {
   "cell_type": "code",
   "execution_count": 11,
   "id": "a527f5c9edc4c369",
   "metadata": {
    "ExecuteTime": {
     "end_time": "2024-09-06T18:39:23.945153Z",
     "start_time": "2024-09-06T18:24:13.564332Z"
    },
    "collapsed": false,
    "jupyter": {
     "outputs_hidden": false
    },
    "scrolled": true
   },
   "outputs": [
    {
     "name": "stderr",
     "output_type": "stream",
     "text": [
      "/home/simon/miniconda3/envs/myenv/lib/python3.10/site-packages/xgboost/core.py:158: UserWarning: [14:33:39] WARNING: /home/conda/feedstock_root/build_artifacts/xgboost-split_1724807753241/work/src/learner.cc:740: \n",
      "Parameters: { \"n_estimators\" } are not used.\n",
      "\n",
      "  warnings.warn(smsg, UserWarning)\n"
     ]
    },
    {
     "name": "stdout",
     "output_type": "stream",
     "text": [
      "[0]\ttrain-logloss:0.66778\tvalidation-logloss:0.66777\n",
      "[100]\ttrain-logloss:0.35085\tvalidation-logloss:0.35099\n",
      "[200]\ttrain-logloss:0.34314\tvalidation-logloss:0.34334\n",
      "[300]\ttrain-logloss:0.33994\tvalidation-logloss:0.34021\n",
      "[400]\ttrain-logloss:0.33790\tvalidation-logloss:0.33827\n",
      "[500]\ttrain-logloss:0.33651\tvalidation-logloss:0.33699\n",
      "[600]\ttrain-logloss:0.33540\tvalidation-logloss:0.33597\n",
      "[700]\ttrain-logloss:0.33450\tvalidation-logloss:0.33518\n",
      "[800]\ttrain-logloss:0.33377\tvalidation-logloss:0.33455\n",
      "[900]\ttrain-logloss:0.33308\tvalidation-logloss:0.33396\n",
      "[999]\ttrain-logloss:0.33251\tvalidation-logloss:0.33348\n",
      "Fold 1 Accuracy: 0.8446\n",
      "Fold 1 Precision: 0.6315\n",
      "Fold 1 Recall: 0.9029\n",
      "Fold 1 F1 Score: 0.7432\n",
      "[[685545 145172]\n",
      " [ 26770 248804]]\n",
      "              precision    recall  f1-score   support\n",
      "\n",
      "   Non-Fraud       0.96      0.83      0.89    830717\n",
      "       Fraud       0.63      0.90      0.74    275574\n",
      "\n",
      "    accuracy                           0.84   1106291\n",
      "   macro avg       0.80      0.86      0.82   1106291\n",
      "weighted avg       0.88      0.84      0.85   1106291\n",
      "\n"
     ]
    },
    {
     "name": "stderr",
     "output_type": "stream",
     "text": [
      "/home/simon/miniconda3/envs/myenv/lib/python3.10/site-packages/xgboost/core.py:158: UserWarning: [14:37:41] WARNING: /home/conda/feedstock_root/build_artifacts/xgboost-split_1724807753241/work/src/learner.cc:740: \n",
      "Parameters: { \"n_estimators\" } are not used.\n",
      "\n",
      "  warnings.warn(smsg, UserWarning)\n"
     ]
    },
    {
     "name": "stdout",
     "output_type": "stream",
     "text": [
      "[0]\ttrain-logloss:0.66781\tvalidation-logloss:0.66781\n",
      "[100]\ttrain-logloss:0.35086\tvalidation-logloss:0.35111\n",
      "[200]\ttrain-logloss:0.34316\tvalidation-logloss:0.34367\n",
      "[300]\ttrain-logloss:0.33987\tvalidation-logloss:0.34057\n",
      "[400]\ttrain-logloss:0.33791\tvalidation-logloss:0.33876\n",
      "[500]\ttrain-logloss:0.33657\tvalidation-logloss:0.33752\n",
      "[600]\ttrain-logloss:0.33544\tvalidation-logloss:0.33650\n",
      "[700]\ttrain-logloss:0.33459\tvalidation-logloss:0.33576\n",
      "[800]\ttrain-logloss:0.33381\tvalidation-logloss:0.33508\n",
      "[900]\ttrain-logloss:0.33313\tvalidation-logloss:0.33450\n",
      "[999]\ttrain-logloss:0.33250\tvalidation-logloss:0.33397\n",
      "Fold 2 Accuracy: 0.8447\n",
      "Fold 2 Precision: 0.6317\n",
      "Fold 2 Recall: 0.9026\n",
      "Fold 2 F1 Score: 0.7433\n",
      "[[685707 145010]\n",
      " [ 26836 248737]]\n",
      "              precision    recall  f1-score   support\n",
      "\n",
      "   Non-Fraud       0.96      0.83      0.89    830717\n",
      "       Fraud       0.63      0.90      0.74    275573\n",
      "\n",
      "    accuracy                           0.84   1106290\n",
      "   macro avg       0.80      0.86      0.82   1106290\n",
      "weighted avg       0.88      0.84      0.85   1106290\n",
      "\n"
     ]
    },
    {
     "name": "stderr",
     "output_type": "stream",
     "text": [
      "/home/simon/miniconda3/envs/myenv/lib/python3.10/site-packages/xgboost/core.py:158: UserWarning: [14:41:00] WARNING: /home/conda/feedstock_root/build_artifacts/xgboost-split_1724807753241/work/src/learner.cc:740: \n",
      "Parameters: { \"n_estimators\" } are not used.\n",
      "\n",
      "  warnings.warn(smsg, UserWarning)\n"
     ]
    },
    {
     "name": "stdout",
     "output_type": "stream",
     "text": [
      "[0]\ttrain-logloss:0.66780\tvalidation-logloss:0.66782\n",
      "[100]\ttrain-logloss:0.35068\tvalidation-logloss:0.35147\n",
      "[200]\ttrain-logloss:0.34305\tvalidation-logloss:0.34407\n",
      "[300]\ttrain-logloss:0.33982\tvalidation-logloss:0.34098\n",
      "[400]\ttrain-logloss:0.33787\tvalidation-logloss:0.33912\n",
      "[500]\ttrain-logloss:0.33651\tvalidation-logloss:0.33788\n",
      "[600]\ttrain-logloss:0.33534\tvalidation-logloss:0.33682\n",
      "[700]\ttrain-logloss:0.33440\tvalidation-logloss:0.33598\n",
      "[800]\ttrain-logloss:0.33361\tvalidation-logloss:0.33529\n",
      "[900]\ttrain-logloss:0.33295\tvalidation-logloss:0.33475\n",
      "[999]\ttrain-logloss:0.33237\tvalidation-logloss:0.33426\n",
      "Fold 3 Accuracy: 0.8443\n",
      "Fold 3 Precision: 0.6311\n",
      "Fold 3 Recall: 0.9024\n",
      "Fold 3 F1 Score: 0.7427\n",
      "[[685323 145393]\n",
      " [ 26894 248680]]\n",
      "              precision    recall  f1-score   support\n",
      "\n",
      "   Non-Fraud       0.96      0.82      0.89    830716\n",
      "       Fraud       0.63      0.90      0.74    275574\n",
      "\n",
      "    accuracy                           0.84   1106290\n",
      "   macro avg       0.80      0.86      0.82   1106290\n",
      "weighted avg       0.88      0.84      0.85   1106290\n",
      "\n"
     ]
    },
    {
     "name": "stderr",
     "output_type": "stream",
     "text": [
      "/home/simon/miniconda3/envs/myenv/lib/python3.10/site-packages/xgboost/core.py:158: UserWarning: [14:44:11] WARNING: /home/conda/feedstock_root/build_artifacts/xgboost-split_1724807753241/work/src/learner.cc:740: \n",
      "Parameters: { \"n_estimators\" } are not used.\n",
      "\n",
      "  warnings.warn(smsg, UserWarning)\n"
     ]
    },
    {
     "name": "stdout",
     "output_type": "stream",
     "text": [
      "[0]\ttrain-logloss:0.66778\tvalidation-logloss:0.66777\n",
      "[100]\ttrain-logloss:0.35084\tvalidation-logloss:0.35046\n",
      "[200]\ttrain-logloss:0.34315\tvalidation-logloss:0.34278\n",
      "[300]\ttrain-logloss:0.33994\tvalidation-logloss:0.33968\n",
      "[400]\ttrain-logloss:0.33797\tvalidation-logloss:0.33782\n",
      "[500]\ttrain-logloss:0.33658\tvalidation-logloss:0.33654\n",
      "[600]\ttrain-logloss:0.33547\tvalidation-logloss:0.33554\n",
      "[700]\ttrain-logloss:0.33463\tvalidation-logloss:0.33479\n",
      "[800]\ttrain-logloss:0.33386\tvalidation-logloss:0.33412\n",
      "[900]\ttrain-logloss:0.33315\tvalidation-logloss:0.33350\n",
      "[999]\ttrain-logloss:0.33257\tvalidation-logloss:0.33302\n",
      "Fold 4 Accuracy: 0.8448\n",
      "Fold 4 Precision: 0.6320\n",
      "Fold 4 Recall: 0.9020\n",
      "Fold 4 F1 Score: 0.7433\n",
      "[[685992 144724]\n",
      " [ 27002 248572]]\n",
      "              precision    recall  f1-score   support\n",
      "\n",
      "   Non-Fraud       0.96      0.83      0.89    830716\n",
      "       Fraud       0.63      0.90      0.74    275574\n",
      "\n",
      "    accuracy                           0.84   1106290\n",
      "   macro avg       0.80      0.86      0.82   1106290\n",
      "weighted avg       0.88      0.84      0.85   1106290\n",
      "\n"
     ]
    },
    {
     "name": "stderr",
     "output_type": "stream",
     "text": [
      "/home/simon/miniconda3/envs/myenv/lib/python3.10/site-packages/xgboost/core.py:158: UserWarning: [14:47:14] WARNING: /home/conda/feedstock_root/build_artifacts/xgboost-split_1724807753241/work/src/learner.cc:740: \n",
      "Parameters: { \"n_estimators\" } are not used.\n",
      "\n",
      "  warnings.warn(smsg, UserWarning)\n"
     ]
    },
    {
     "name": "stdout",
     "output_type": "stream",
     "text": [
      "[0]\ttrain-logloss:0.66779\tvalidation-logloss:0.66781\n",
      "[100]\ttrain-logloss:0.35075\tvalidation-logloss:0.35112\n",
      "[200]\ttrain-logloss:0.34322\tvalidation-logloss:0.34368\n",
      "[300]\ttrain-logloss:0.33988\tvalidation-logloss:0.34041\n",
      "[400]\ttrain-logloss:0.33790\tvalidation-logloss:0.33849\n",
      "[500]\ttrain-logloss:0.33653\tvalidation-logloss:0.33722\n",
      "[600]\ttrain-logloss:0.33544\tvalidation-logloss:0.33623\n",
      "[700]\ttrain-logloss:0.33451\tvalidation-logloss:0.33541\n",
      "[800]\ttrain-logloss:0.33377\tvalidation-logloss:0.33477\n",
      "[900]\ttrain-logloss:0.33314\tvalidation-logloss:0.33424\n",
      "[999]\ttrain-logloss:0.33253\tvalidation-logloss:0.33374\n",
      "Fold 5 Accuracy: 0.8445\n",
      "Fold 5 Precision: 0.6314\n",
      "Fold 5 Recall: 0.9025\n",
      "Fold 5 F1 Score: 0.7430\n",
      "[[685530 145186]\n",
      " [ 26880 248694]]\n",
      "              precision    recall  f1-score   support\n",
      "\n",
      "   Non-Fraud       0.96      0.83      0.89    830716\n",
      "       Fraud       0.63      0.90      0.74    275574\n",
      "\n",
      "    accuracy                           0.84   1106290\n",
      "   macro avg       0.80      0.86      0.82   1106290\n",
      "weighted avg       0.88      0.84      0.85   1106290\n",
      "\n",
      "Average Accuracy: 0.8445\n",
      "Average Precision: 0.6315\n",
      "Average Recall: 0.9025\n",
      "Average F1 Score: 0.7431\n"
     ]
    }
   ],
   "source": [
    "\n",
    "# Loop over KFold splits for importance feature\n",
    "fold_number = 1\n",
    "for train_index, test_index in kf.split(X, y):\n",
    "    # Indexing\n",
    "    X_train_fold, X_test_fold = X[train_index], X[test_index]\n",
    "    y_train_fold, y_test_fold = y[train_index], y[test_index]\n",
    "    \n",
    "    # Create DMatrix for training and testing\n",
    "    dtrain = xgb.DMatrix(X_train_fold, label=y_train_fold)\n",
    "    dtest = xgb.DMatrix(X_test_fold, label=y_test_fold)\n",
    "    \n",
    "    # Define eval_set for tracking log loss during training\n",
    "    evals = [(dtrain, 'train'), (dtest, 'validation')]\n",
    "    \n",
    "    # Train the model with early stopping\n",
    "    evals_result = {}\n",
    "    xgb_model = xgb.train(\n",
    "        params,\n",
    "        dtrain,\n",
    "        num_boost_round=1000,\n",
    "        evals=evals,\n",
    "        early_stopping_rounds=10,\n",
    "        evals_result=evals_result,\n",
    "        verbose_eval=100\n",
    "    )\n",
    "    \n",
    "   # Capture log loss values in a DataFrame\n",
    "    logloss_values.append(evals_result['validation']['logloss'])\n",
    "    \n",
    "    \n",
    "    # Predict on the test fold\n",
    "    y_pred_fold_prob = xgb_model.predict(dtest)\n",
    "    \n",
    "    # Convert probabilities to binary predictions (using 0.5 as the threshold)\n",
    "    y_pred_fold = (y_pred_fold_prob > 0.5).astype(int)\n",
    "\n",
    "    # Calculate metrics for this fold\n",
    "    accuracy = accuracy_score(y_test_fold, y_pred_fold)\n",
    "    precision = precision_score(y_test_fold, y_pred_fold, zero_division=1)\n",
    "    recall = recall_score(y_test_fold, y_pred_fold, zero_division=1)\n",
    "    f1 = f1_score(y_test_fold, y_pred_fold, zero_division=1)\n",
    "\n",
    "    # Append metrics to the lists\n",
    "    accuracies.append(accuracy)\n",
    "    precisions.append(precision)\n",
    "    recalls.append(recall)\n",
    "    f1_scores.append(f1)\n",
    "\n",
    "    # Print metrics for the current fold\n",
    "    print(f'Fold {fold_number} Accuracy: {accuracy:.4f}')\n",
    "    print(f'Fold {fold_number} Precision: {precision:.4f}')\n",
    "    print(f'Fold {fold_number} Recall: {recall:.4f}')\n",
    "    print(f'Fold {fold_number} F1 Score: {f1:.4f}')\n",
    "    print(confusion_matrix(y_test_fold, y_pred_fold))\n",
    "    print(classification_report(y_test_fold, y_pred_fold, target_names=['Non-Fraud', 'Fraud']))\n",
    "    \n",
    "    fold_number += 1\n",
    "\n",
    "# Calculate and print average metrics\n",
    "print(f'Average Accuracy: {np.mean(accuracies):.4f}')\n",
    "print(f'Average Precision: {np.mean(precisions):.4f}')\n",
    "print(f'Average Recall: {np.mean(recalls):.4f}')\n",
    "print(f'Average F1 Score: {np.mean(f1_scores):.4f}')\n"
   ]
  },
  {
   "cell_type": "code",
   "execution_count": 12,
   "id": "7fd10070216ebfdb",
   "metadata": {
    "ExecuteTime": {
     "end_time": "2024-09-06T18:39:24.040730Z",
     "start_time": "2024-09-06T18:39:23.947119Z"
    },
    "collapsed": false,
    "jupyter": {
     "outputs_hidden": false
    }
   },
   "outputs": [
    {
     "data": {
      "image/png": "[encoded data removed]",
      "text/plain": [
       "<Figure size 1000x600 with 1 Axes>"
      ]
     },
     "metadata": {},
     "output_type": "display_data"
    }
   ],
   "source": [
    "# Plot the accuracy evolution by fold\n",
    "plt.figure(figsize=(10, 6))\n",
    "plt.plot(range(1, len(accuracies) + 1), accuracies, marker='o', linestyle='-')\n",
    "plt.xlabel('Fold Number')\n",
    "plt.ylabel('Accuracy')\n",
    "plt.title('Accuracy Evolution by Fold')\n",
    "plt.grid(True)\n",
    "plt.xticks(range(1, len(accuracies) + 1))\n",
    "plt.show()"
   ]
  },
  {
   "cell_type": "code",
   "execution_count": 13,
   "id": "5878c966f7624c2c",
   "metadata": {
    "ExecuteTime": {
     "end_time": "2024-09-06T19:13:38.765407Z",
     "start_time": "2024-09-06T19:13:38.648464Z"
    },
    "collapsed": false,
    "jupyter": {
     "outputs_hidden": false
    }
   },
   "outputs": [
    {
     "data": {
      "image/png": "[encoded data removed]",
      "text/plain": [
       "<Figure size 1000x600 with 1 Axes>"
      ]
     },
     "metadata": {},
     "output_type": "display_data"
    }
   ],
   "source": [
    "# Plot the log loss evolution by fold\n",
    "plt.figure(figsize=(10, 6))\n",
    "for fold, logloss in enumerate(logloss_values, start=1):\n",
    "    plt.plot(logloss, label=f'Fold {fold}')\n",
    "plt.xlabel('Number of Rounds')\n",
    "plt.ylabel('Log Loss')\n",
    "plt.title('Log Loss Evolution by Fold')\n",
    "plt.grid(True)\n",
    "plt.legend()\n",
    "plt.show()"
   ]
  },
  {
   "cell_type": "code",
   "execution_count": 14,
   "id": "f6fe4fd833dd54ed",
   "metadata": {
    "ExecuteTime": {
     "end_time": "2024-09-06T19:17:05.608988Z",
     "start_time": "2024-09-06T19:17:05.579348Z"
    },
    "collapsed": false,
    "jupyter": {
     "outputs_hidden": false
    }
   },
   "outputs": [],
   "source": [
    "xgb_model.save_model('xgboost_model.json')"
   ]
  },
  {
   "cell_type": "code",
   "execution_count": null,
   "id": "5c9fd9e032ff262f",
   "metadata": {
    "collapsed": false,
    "jupyter": {
     "outputs_hidden": false
    }
   },
   "outputs": [],
   "source": []
  }
 ],
 "metadata": {
  "kernelspec": {
   "display_name": "Python 3 (ipykernel)",
   "language": "python",
   "name": "python3"
  },
  "language_info": {
   "codemirror_mode": {
    "name": "ipython",
    "version": 3
   },
   "file_extension": ".py",
   "mimetype": "text/x-python",
   "name": "python",
   "nbconvert_exporter": "python",
   "pygments_lexer": "ipython3",
   "version": "3.10.13"
  }
 },
 "nbformat": 4,
 "nbformat_minor": 5
}
