{
 "cells": [
  {
   "cell_type": "markdown",
   "id": "7cac477317d79e45",
   "metadata": {
    "collapsed": false,
    "jupyter": {
     "outputs_hidden": false
    }
   },
   "source": [
    "In this first part I will reduce the data sizes by convert the values. For this is use the work share by Chris DEOTTE (https://www.kaggle.com/competitions/amex-default-prediction/discussion/328054), the reust is i convert the files 50Go to 3.5 GO in parquet format."
   ]
  },
  {
   "cell_type": "code",
   "execution_count": 1,
   "id": "5edcde14-fb38-4d20-8c6c-4963ac6b6aca",
   "metadata": {
    "scrolled": true
   },
   "outputs": [
    {
     "name": "stdout",
     "output_type": "stream",
     "text": [
      "Requirement already satisfied: pandas in /home/simon/miniconda3/lib/python3.12/site-packages (2.2.2)\n",
      "Requirement already satisfied: numpy>=1.26.0 in /home/simon/miniconda3/lib/python3.12/site-packages (from pandas) (2.1.1)\n",
      "Requirement already satisfied: python-dateutil>=2.8.2 in /home/simon/miniconda3/lib/python3.12/site-packages (from pandas) (2.9.0.post0)\n",
      "Requirement already satisfied: pytz>=2020.1 in /home/simon/miniconda3/lib/python3.12/site-packages (from pandas) (2024.2)\n",
      "Requirement already satisfied: tzdata>=2022.7 in /home/simon/miniconda3/lib/python3.12/site-packages (from pandas) (2024.1)\n",
      "Requirement already satisfied: six>=1.5 in /home/simon/miniconda3/lib/python3.12/site-packages (from python-dateutil>=2.8.2->pandas) (1.16.0)\n"
     ]
    }
   ],
   "source": [
    "!pip install pandas"
   ]
  },
  {
   "cell_type": "code",
   "execution_count": 2,
   "id": "10622cbd7c30a800",
   "metadata": {
    "ExecuteTime": {
     "end_time": "2024-08-18T08:06:06.380978Z",
     "start_time": "2024-08-18T08:06:06.378236Z"
    },
    "collapsed": false,
    "jupyter": {
     "outputs_hidden": false
    }
   },
   "outputs": [],
   "source": [
    "import pandas as pd"
   ]
  },
  {
   "cell_type": "code",
   "execution_count": 3,
   "id": "5eff5bbe43c4af95",
   "metadata": {
    "ExecuteTime": {
     "start_time": "2024-08-18T08:06:06.382338Z"
    },
    "collapsed": false,
    "is_executing": true,
    "jupyter": {
     "outputs_hidden": false
    }
   },
   "outputs": [
    {
     "name": "stdout",
     "output_type": "stream",
     "text": [
      "code start\n",
      "data loading on gpu\n"
     ]
    }
   ],
   "source": [
    "print('code start')\n",
    "data = pd.read_csv('train_data.csv', parse_dates=['S_2'])\n",
    "labels = pd.read_csv('train_labels.csv')\n",
    "print('data loading on gpu')"
   ]
  },
  {
   "cell_type": "code",
   "execution_count": 4,
   "id": "266576ba979cd23a",
   "metadata": {
    "collapsed": false,
    "is_executing": true,
    "jupyter": {
     "outputs_hidden": false
    }
   },
   "outputs": [],
   "source": [
    "df = pd.merge(data, labels, on='customer_ID')"
   ]
  },
  {
   "cell_type": "code",
   "execution_count": 5,
   "id": "7b65c505f3875441",
   "metadata": {
    "collapsed": false,
    "is_executing": true,
    "jupyter": {
     "outputs_hidden": false
    }
   },
   "outputs": [
    {
     "name": "stdout",
     "output_type": "stream",
     "text": [
      "Data encoding done\n"
     ]
    }
   ],
   "source": [
    "# Reduce the size of the Customer ID by keeping only the last 16 digits\n",
    "df['code'] = df['customer_ID'].apply(lambda x: int(x[-16:], 16)).astype('int64')\n",
    "\n",
    "# Create a dictionary of the customer ID for the final submission\n",
    "MAPPING = df['customer_ID'].to_dict()\n",
    "print('Data encoding done')"
   ]
  },
  {
   "cell_type": "code",
   "execution_count": 6,
   "id": "f9abad5d539ffaa9",
   "metadata": {
    "collapsed": false,
    "is_executing": true,
    "jupyter": {
     "outputs_hidden": false
    }
   },
   "outputs": [
    {
     "name": "stdout",
     "output_type": "stream",
     "text": [
      "Index set on code\n"
     ]
    }
   ],
   "source": [
    "# Convert 'code' to int32 to reduce more the data set size\n",
    "df['code'] = df['code'].astype('int32')\n",
    "\n",
    "# Set 'code' as index and drop 'customer_ID'\n",
    "df.set_index('code', inplace=True)\n",
    "df.drop('customer_ID', axis=1, inplace=True)\n",
    "print('Index set on code')"
   ]
  },
  {
   "cell_type": "code",
   "execution_count": 7,
   "id": "803dbfa394f2a0b1",
   "metadata": {
    "collapsed": false,
    "is_executing": true,
    "jupyter": {
     "outputs_hidden": false
    }
   },
   "outputs": [
    {
     "name": "stdout",
     "output_type": "stream",
     "text": [
      "Columns that are float but contain only integer-like values:\n",
      "['D_66', 'D_68', 'B_30', 'D_87', 'B_38', 'D_114', 'D_116', 'D_117', 'D_120', 'D_126']\n"
     ]
    }
   ],
   "source": [
    "# Function to check if a series contains only integer-like values\n",
    "def is_integer_like(series):\n",
    "    series_no_na = series.dropna()\n",
    "    return (series_no_na == series_no_na.astype(int)).all()\n",
    "\n",
    "\n",
    "# Identify float columns that contain only integer-like values\n",
    "float_columns = df.select_dtypes(include=['float64']).columns\n",
    "integer_like_columns = [col for col in float_columns if is_integer_like(df[col])]\n",
    "\n",
    "print(\"Columns that are float but contain only integer-like values:\")\n",
    "print(integer_like_columns)"
   ]
  },
  {
   "cell_type": "code",
   "execution_count": 8,
   "id": "39049ecc7311f965",
   "metadata": {
    "collapsed": false,
    "is_executing": true,
    "jupyter": {
     "outputs_hidden": false
    }
   },
   "outputs": [
    {
     "name": "stdout",
     "output_type": "stream",
     "text": [
      "Float conversion done\n"
     ]
    }
   ],
   "source": [
    "# Change integer-like float columns to int8 to reduce size\n",
    "for col in integer_like_columns:\n",
    "    df[col] = df[col].fillna(0).astype('int8')\n",
    "\n",
    "# Convert remaining float columns to float32\n",
    "for col in float_columns:\n",
    "    df[col] = df[col].astype('float32')\n",
    "\n",
    "print('Float conversion done')"
   ]
  },
  {
   "cell_type": "code",
   "execution_count": 9,
   "id": "7d785d0f5c4aadb",
   "metadata": {
    "collapsed": false,
    "is_executing": true,
    "jupyter": {
     "outputs_hidden": false
    }
   },
   "outputs": [
    {
     "name": "stdout",
     "output_type": "stream",
     "text": [
      "Duplicate reduction count: 5526332\n"
     ]
    }
   ],
   "source": [
    "# Ensure no data is lost: no duplicates, then save the DataFrame in parquet and feather formats\n",
    "duplicate_counts_reduction = df.index.duplicated(keep=False).sum()\n",
    "print(f'Duplicate reduction count: {duplicate_counts_reduction}')"
   ]
  },
  {
   "cell_type": "code",
   "execution_count": 11,
   "id": "5c9f7d65e55f9f7b",
   "metadata": {
    "collapsed": false,
    "is_executing": true,
    "jupyter": {
     "outputs_hidden": false
    }
   },
   "outputs": [
    {
     "name": "stdout",
     "output_type": "stream",
     "text": [
      "Data saved in Parquet\n"
     ]
    }
   ],
   "source": [
    "df.to_parquet('data_reduce.parquet')\n",
    "print('Data saved in Parquet')"
   ]
  },
  {
   "cell_type": "code",
   "execution_count": 12,
   "id": "56848abbcbf2330a",
   "metadata": {
    "collapsed": false,
    "is_executing": true,
    "jupyter": {
     "outputs_hidden": false
    }
   },
   "outputs": [
    {
     "name": "stdout",
     "output_type": "stream",
     "text": [
      "Data saved in Feather\n"
     ]
    }
   ],
   "source": [
    "df.to_feather('data_reduce.feather')\n",
    "print('Data saved in Feather')"
   ]
  },
  {
   "cell_type": "code",
   "execution_count": null,
   "id": "74684a5c-0e74-4197-8276-7adeae7479c0",
   "metadata": {},
   "outputs": [],
   "source": []
  }
 ],
 "metadata": {
  "kernelspec": {
   "display_name": "Python 3 (ipykernel)",
   "language": "python",
   "name": "python3"
  },
  "language_info": {
   "codemirror_mode": {
    "name": "ipython",
    "version": 3
   },
   "file_extension": ".py",
   "mimetype": "text/x-python",
   "name": "python",
   "nbconvert_exporter": "python",
   "pygments_lexer": "ipython3",
   "version": "3.12.2"
  }
 },
 "nbformat": 4,
 "nbformat_minor": 5
}
