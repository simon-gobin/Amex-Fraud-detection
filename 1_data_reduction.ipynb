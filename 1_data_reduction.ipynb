{
 "cells": [
  {
   "cell_type": "markdown",
   "source": [
    "In this first part I will reduce the data sizes by convert the values. For this is use the work share by Chris DEOTTE (https://www.kaggle.com/competitions/amex-default-prediction/discussion/328054), the reust is i convert the files 50Go to 3.5 GO in parquet format."
   ],
   "metadata": {
    "collapsed": false
   },
   "id": "7cac477317d79e45"
  },
  {
   "cell_type": "code",
   "outputs": [],
   "source": [
    "import pandas as pd"
   ],
   "metadata": {
    "collapsed": false,
    "ExecuteTime": {
     "end_time": "2024-08-18T08:06:06.380978Z",
     "start_time": "2024-08-18T08:06:06.378236Z"
    }
   },
   "id": "10622cbd7c30a800",
   "execution_count": 2
  },
  {
   "cell_type": "code",
   "outputs": [
    {
     "name": "stdout",
     "output_type": "stream",
     "text": [
      "code start\n"
     ]
    }
   ],
   "source": [
    "print('code start')\n",
    "data = pd.read_csv('train_data.csv', parse_dates=['S_2'])\n",
    "labels = pd.read_csv('train_labels.csv')\n",
    "print('data loading on gpu')"
   ],
   "metadata": {
    "collapsed": false,
    "is_executing": true,
    "ExecuteTime": {
     "start_time": "2024-08-18T08:06:06.382338Z"
    }
   },
   "id": "5eff5bbe43c4af95"
  },
  {
   "cell_type": "code",
   "outputs": [],
   "source": [
    "df = pd.merge(data, labels, on='customer_ID')"
   ],
   "metadata": {
    "collapsed": false,
    "is_executing": true
   },
   "id": "266576ba979cd23a"
  },
  {
   "cell_type": "code",
   "outputs": [],
   "source": [
    "# Reduce the size of the Customer ID by keeping only the last 16 digits\n",
    "df['code'] = df['customer_ID'].apply(lambda x: int(x[-16:], 16)).astype('int64')\n",
    "\n",
    "# Create a dictionary of the customer ID for the final submission\n",
    "MAPPING = df['customer_ID'].to_dict()\n",
    "print('Data encoding done')"
   ],
   "metadata": {
    "collapsed": false,
    "is_executing": true
   },
   "id": "7b65c505f3875441"
  },
  {
   "cell_type": "code",
   "outputs": [],
   "source": [
    "# Convert 'code' to int32 to reduce more the data set size\n",
    "df['code'] = df['code'].astype('int32')\n",
    "\n",
    "# Set 'code' as index and drop 'customer_ID'\n",
    "df.set_index('code', inplace=True)\n",
    "df.drop('customer_ID', axis=1, inplace=True)\n",
    "print('Index set on code')"
   ],
   "metadata": {
    "collapsed": false,
    "is_executing": true
   },
   "id": "f9abad5d539ffaa9"
  },
  {
   "cell_type": "code",
   "outputs": [],
   "source": [
    "# Function to check if a series contains only integer-like values\n",
    "def is_integer_like(series):\n",
    "    series_no_na = series.dropna()\n",
    "    return (series_no_na == series_no_na.astype(int)).all()\n",
    "\n",
    "\n",
    "# Identify float columns that contain only integer-like values\n",
    "float_columns = df.select_dtypes(include=['float64']).columns\n",
    "integer_like_columns = [col for col in float_columns if is_integer_like(df[col])]\n",
    "\n",
    "print(\"Columns that are float but contain only integer-like values:\")\n",
    "print(integer_like_columns)"
   ],
   "metadata": {
    "collapsed": false,
    "is_executing": true
   },
   "id": "803dbfa394f2a0b1"
  },
  {
   "cell_type": "code",
   "outputs": [],
   "source": [
    "# Change integer-like float columns to int8 to reduce size\n",
    "for col in integer_like_columns:\n",
    "    df[col] = df[col].fillna(0).astype('int8')\n",
    "\n",
    "# Convert remaining float columns to float32\n",
    "for col in float_columns:\n",
    "    df[col] = df[col].astype('float32')\n",
    "\n",
    "print('Float conversion done')"
   ],
   "metadata": {
    "collapsed": false,
    "is_executing": true
   },
   "id": "39049ecc7311f965"
  },
  {
   "cell_type": "code",
   "outputs": [],
   "source": [
    "# Ensure no data is lost: no duplicates, then save the DataFrame in parquet and feather formats\n",
    "duplicate_counts_reduction = df.index.duplicated(keep=False).sum()\n",
    "print(f'Duplicate reduction count: {duplicate_counts_reduction}')"
   ],
   "metadata": {
    "collapsed": false,
    "is_executing": true
   },
   "id": "7d785d0f5c4aadb"
  },
  {
   "cell_type": "code",
   "outputs": [],
   "source": [
    "df.to_parquet('data_reduce.parquet')\n",
    "print('Data saved in Parquet')"
   ],
   "metadata": {
    "collapsed": false,
    "is_executing": true
   },
   "id": "5c9f7d65e55f9f7b"
  },
  {
   "cell_type": "code",
   "outputs": [],
   "source": [
    "df.to_feather('data_reduce.feather')\n",
    "print('Data saved in Feather')"
   ],
   "metadata": {
    "collapsed": false,
    "is_executing": true
   },
   "id": "56848abbcbf2330a"
  }
 ],
 "metadata": {
  "kernelspec": {
   "display_name": "Python 3",
   "language": "python",
   "name": "python3"
  },
  "language_info": {
   "codemirror_mode": {
    "name": "ipython",
    "version": 2
   },
   "file_extension": ".py",
   "mimetype": "text/x-python",
   "name": "python",
   "nbconvert_exporter": "python",
   "pygments_lexer": "ipython2",
   "version": "2.7.6"
  }
 },
 "nbformat": 4,
 "nbformat_minor": 5
}
